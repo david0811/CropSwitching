{
 "cells": [
  {
   "cell_type": "code",
   "execution_count": 1,
   "id": "f65cc450",
   "metadata": {},
   "outputs": [
    {
     "data": {
      "text/plain": [
       "<dask.config.set at 0x2b64db7909d0>"
      ]
     },
     "execution_count": 1,
     "metadata": {},
     "output_type": "execute_result"
    }
   ],
   "source": [
    "import numpy as np\n",
    "import pandas as pd\n",
    "import xarray as xr\n",
    "import xagg as xa\n",
    "import geopandas as gp\n",
    "import rioxarray\n",
    "import dask\n",
    "from os.path import isfile\n",
    "from dask.distributed import Queue\n",
    "\n",
    "import pyproj\n",
    "pyproj.datadir.set_data_dir('/storage/home/d/dcl5300/work/ENVS/cropswitching/share/proj')\n",
    "\n",
    "import warnings\n",
    "warnings.simplefilter(\"ignore\", RuntimeWarning) # Ignore invalid arcsin() in EDD calculation\n",
    "\n",
    "dask.config.set({'array.slicing.split_large_chunks': False})"
   ]
  },
  {
   "cell_type": "markdown",
   "id": "8df4b09d",
   "metadata": {
    "tags": []
   },
   "source": [
    "## Dask (cluster)"
   ]
  },
  {
   "cell_type": "code",
   "execution_count": 2,
   "id": "9763f50a",
   "metadata": {},
   "outputs": [],
   "source": [
    "from dask_jobqueue import PBSCluster\n",
    "cluster = PBSCluster(cores=1, resource_spec='pmem=20GB', memory='20GB', walltime='12:30:00')"
   ]
  },
  {
   "cell_type": "code",
   "execution_count": 3,
   "id": "11ea7d66-097c-4096-9f0d-c84147d982a4",
   "metadata": {},
   "outputs": [
    {
     "name": "stdout",
     "output_type": "stream",
     "text": [
      "#!/usr/bin/env bash\n",
      "\n",
      "#PBS -N dask-worker\n",
      "#PBS -A kaf26_c_g_sc_default\n",
      "#PBS -l pmem=20GB\n",
      "#PBS -l walltime=12:30:00\n",
      "#PBS -e /gpfs/scratch/dcl5300/\n",
      "#PBS -o /gpfs/scratch/dcl5300/\n",
      "\n",
      "/storage/work/dcl5300/ENVS/cropswitching/bin/python -m distributed.cli.dask_worker tcp://10.102.201.209:46858 --nthreads 1 --memory-limit 18.63GiB --name dummy-name --nanny --death-timeout 60 --local-directory /gpfs/scratch/dcl5300 --protocol tcp://\n",
      "\n"
     ]
    }
   ],
   "source": [
    "print(cluster.job_script())"
   ]
  },
  {
   "cell_type": "code",
   "execution_count": 4,
   "id": "5b07a292",
   "metadata": {},
   "outputs": [],
   "source": [
    "cluster.scale(jobs=40)  # ask for jobs"
   ]
  },
  {
   "cell_type": "code",
   "execution_count": 5,
   "id": "f82a663b",
   "metadata": {},
   "outputs": [],
   "source": [
    "from dask.distributed import Client\n",
    "client = Client(cluster)"
   ]
  },
  {
   "cell_type": "code",
   "execution_count": 6,
   "id": "6597e8aa",
   "metadata": {},
   "outputs": [
    {
     "data": {
      "text/html": [
       "<div>\n",
       "    <div style=\"width: 24px; height: 24px; background-color: #e1e1e1; border: 3px solid #9D9D9D; border-radius: 5px; position: absolute;\"> </div>\n",
       "    <div style=\"margin-left: 48px;\">\n",
       "        <h3 style=\"margin-bottom: 0px;\">Client</h3>\n",
       "        <p style=\"color: #9D9D9D; margin-bottom: 0px;\">Client-48bb9d09-5569-11ec-a2d7-74e6e2708be1</p>\n",
       "        <table style=\"width: 100%; text-align: left;\">\n",
       "\n",
       "        <tr>\n",
       "        \n",
       "            <td style=\"text-align: left;\"><strong>Connection method:</strong> Cluster object</td>\n",
       "            <td style=\"text-align: left;\"><strong>Cluster type:</strong> PBSCluster</td>\n",
       "        \n",
       "        </tr>\n",
       "\n",
       "        \n",
       "            <tr>\n",
       "                <td style=\"text-align: left;\">\n",
       "                    <strong>Dashboard: </strong> <a href=\"/proxy/8787/status\">/proxy/8787/status</a>\n",
       "                </td>\n",
       "                <td style=\"text-align: left;\"></td>\n",
       "            </tr>\n",
       "        \n",
       "\n",
       "        </table>\n",
       "\n",
       "        \n",
       "            <details>\n",
       "            <summary style=\"margin-bottom: 20px;\"><h3 style=\"display: inline;\">Cluster Info</h3></summary>\n",
       "            <div class=\"jp-RenderedHTMLCommon jp-RenderedHTML jp-mod-trusted jp-OutputArea-output\">\n",
       "    <div style=\"width: 24px; height: 24px; background-color: #e1e1e1; border: 3px solid #9D9D9D; border-radius: 5px; position: absolute;\">\n",
       "    </div>\n",
       "    <div style=\"margin-left: 48px;\">\n",
       "        <h3 style=\"margin-bottom: 0px; margin-top: 0px;\">PBSCluster</h3>\n",
       "        <p style=\"color: #9D9D9D; margin-bottom: 0px;\">340a2f24</p>\n",
       "        <table style=\"width: 100%; text-align: left;\">\n",
       "            <tr>\n",
       "                <td style=\"text-align: left;\">\n",
       "                    <strong>Dashboard:</strong> <a href=\"/proxy/8787/status\">/proxy/8787/status</a>\n",
       "                </td>\n",
       "                <td style=\"text-align: left;\">\n",
       "                    <strong>Workers:</strong> 0\n",
       "                </td>\n",
       "            </tr>\n",
       "            <tr>\n",
       "                <td style=\"text-align: left;\">\n",
       "                    <strong>Total threads:</strong> 0\n",
       "                </td>\n",
       "                <td style=\"text-align: left;\">\n",
       "                    <strong>Total memory:</strong> 0 B\n",
       "                </td>\n",
       "            </tr>\n",
       "            \n",
       "        </table>\n",
       "\n",
       "        <details>\n",
       "            <summary style=\"margin-bottom: 20px;\">\n",
       "                <h3 style=\"display: inline;\">Scheduler Info</h3>\n",
       "            </summary>\n",
       "\n",
       "            <div style=\"\">\n",
       "    <div>\n",
       "        <div style=\"width: 24px; height: 24px; background-color: #FFF7E5; border: 3px solid #FF6132; border-radius: 5px; position: absolute;\"> </div>\n",
       "        <div style=\"margin-left: 48px;\">\n",
       "            <h3 style=\"margin-bottom: 0px;\">Scheduler</h3>\n",
       "            <p style=\"color: #9D9D9D; margin-bottom: 0px;\">Scheduler-12e3ebd4-51f4-4694-abcd-8f4994ccf4dc</p>\n",
       "            <table style=\"width: 100%; text-align: left;\">\n",
       "                <tr>\n",
       "                    <td style=\"text-align: left;\">\n",
       "                        <strong>Comm:</strong> tcp://10.102.201.209:46858\n",
       "                    </td>\n",
       "                    <td style=\"text-align: left;\">\n",
       "                        <strong>Workers:</strong> 0\n",
       "                    </td>\n",
       "                </tr>\n",
       "                <tr>\n",
       "                    <td style=\"text-align: left;\">\n",
       "                        <strong>Dashboard:</strong> <a href=\"/proxy/8787/status\">/proxy/8787/status</a>\n",
       "                    </td>\n",
       "                    <td style=\"text-align: left;\">\n",
       "                        <strong>Total threads:</strong> 0\n",
       "                    </td>\n",
       "                </tr>\n",
       "                <tr>\n",
       "                    <td style=\"text-align: left;\">\n",
       "                        <strong>Started:</strong> Just now\n",
       "                    </td>\n",
       "                    <td style=\"text-align: left;\">\n",
       "                        <strong>Total memory:</strong> 0 B\n",
       "                    </td>\n",
       "                </tr>\n",
       "            </table>\n",
       "        </div>\n",
       "    </div>\n",
       "\n",
       "    <details style=\"margin-left: 48px;\">\n",
       "        <summary style=\"margin-bottom: 20px;\">\n",
       "            <h3 style=\"display: inline;\">Workers</h3>\n",
       "        </summary>\n",
       "\n",
       "        \n",
       "\n",
       "    </details>\n",
       "</div>\n",
       "\n",
       "        </details>\n",
       "    </div>\n",
       "</div>\n",
       "            </details>\n",
       "        \n",
       "\n",
       "    </div>\n",
       "</div>"
      ],
      "text/plain": [
       "<Client: 'tcp://10.102.201.209:46858' processes=0 threads=0, memory=0 B>"
      ]
     },
     "execution_count": 6,
     "metadata": {},
     "output_type": "execute_result"
    }
   ],
   "source": [
    "client"
   ]
  },
  {
   "cell_type": "markdown",
   "id": "74ae1644-feca-43d7-9962-8879dd5c864a",
   "metadata": {
    "tags": []
   },
   "source": [
    "## Function definitions"
   ]
  },
  {
   "cell_type": "code",
   "execution_count": 7,
   "id": "a4a55928-3133-4486-b24a-d32f7c21ceff",
   "metadata": {},
   "outputs": [],
   "source": [
    "# Get unique fips codes\n",
    "def get_unique_fips():\n",
    "    yield_path = '../data/historical/yields/'\n",
    "\n",
    "    ufips = np.array([])\n",
    "    for crop in ['maize', 'cotton', 'soy', 'rice', 'sorghum', 'barley', 'spring_wheat', 'winter_wheat']:\n",
    "        tmp = pd.read_csv(yield_path + crop + '_all.csv')\n",
    "        tmp['fips'] = tmp['fips'].astype(str).str.zfill(5)\n",
    "        ufips = np.append(ufips, tmp['fips'].unique())\n",
    "    \n",
    "    ufips = np.unique(ufips)\n",
    "    \n",
    "    return ufips"
   ]
  },
  {
   "cell_type": "code",
   "execution_count": 8,
   "id": "db6a21eb-c8dd-4a3e-bff4-a6b0fbf08024",
   "metadata": {},
   "outputs": [],
   "source": [
    "# Degree day function\n",
    "def above_threshold_each(mins, maxs, threshold):\n",
    "    \"\"\"Use a sinusoidal approximation to estimate the number of Growing\n",
    "    Degree-Days above a given threshold, using daily minimum and maximum\n",
    "    temperatures.\n",
    "    mins and maxs are numpy arrays; threshold is in the same units.\"\"\"\n",
    "\n",
    "    \"\"\"\n",
    "    Code from James Rising (https://github.com/jrising/research-common/blob/master/python/gdd.py)\n",
    "    \"\"\"\n",
    "\n",
    "    # Determine crossing points, as a fraction of the day\n",
    "    plus_over_2 = (mins + maxs)/2\n",
    "    minus_over_2 = (maxs - mins)/2\n",
    "    two_pi = 2*np.pi\n",
    "    # d0s is the times of crossing above; d1s is when cross below\n",
    "    d0s = np.arcsin((threshold - plus_over_2) / minus_over_2) / two_pi\n",
    "    d1s = .5 - d0s\n",
    "\n",
    "    # If always above or below threshold, set crossings accordingly\n",
    "    aboves = mins >= threshold\n",
    "    belows = maxs <= threshold\n",
    "\n",
    "    d0s[aboves] = 0\n",
    "    d1s[aboves] = 1\n",
    "    d0s[belows] = 0\n",
    "    d1s[belows] = 0\n",
    "\n",
    "    # Calculate integral\n",
    "    F1s = -minus_over_2 * np.cos(2*np.pi*d1s) / two_pi + plus_over_2 * d1s\n",
    "    F0s = -minus_over_2 * np.cos(2*np.pi*d0s) / two_pi + plus_over_2 * d0s\n",
    "    return F1s - F0s - threshold * (d1s - d0s)\n",
    "\n",
    "# ufunc for dask\n",
    "def edd_ufunc_annual(tasmin, tasmax, threshold):\n",
    "    return xr.apply_ufunc(above_threshold_each,\n",
    "                          tasmin, tasmax, threshold,\n",
    "                          dask = 'allowed')"
   ]
  },
  {
   "cell_type": "code",
   "execution_count": 9,
   "id": "4c09e949-9881-42c1-af92-5965ad6052f2",
   "metadata": {},
   "outputs": [],
   "source": [
    "# Calculate predictors: EDD conditioned on SM difference from mean (Haqiqi 21)\n",
    "def get_predictors_EDD_SM_H21(dsTmin, dsTmax, dsP, dsSM, model, T_thresh, crop):\n",
    "    # DataArray\n",
    "    dsSM = dsSM['soilMoist1']\n",
    "    \n",
    "    # Soil moisture difference\n",
    "    sm_mean_current = dsSM.chunk(dict(time=-1, lat=20, lon=20)).mean(dim='time').compute()\n",
    "    sm_diff_current = (dsSM - sm_mean_current)\n",
    "    \n",
    "    sm_mean_hist = xr.open_dataset('/gpfs/group/kaf26/default/dcl5300/LOCA_VIC_soilMoisture/Livneh/quantiles/Livneh_VIC_sm_mean_4-9.nc')\n",
    "    sm_diff_hist = (dsSM - sm_mean_hist['soilMoist1'])\n",
    "    \n",
    "    # Calculate daily EDD\n",
    "    EDD = edd_ufunc_annual(dsTmin['tasmin'], dsTmax['tasmax'], threshold = T_thresh[1])\n",
    "    \n",
    "    # Calculate daily GDD\n",
    "    GDD = edd_ufunc_annual(dsTmin['tasmin'], dsTmax['tasmax'], threshold = T_thresh[0])\n",
    "    GDD = GDD - EDD\n",
    "    \n",
    "    # Combine\n",
    "    DD_SM = xr.combine_by_coords([EDD.to_dataset(name='EDD'),\n",
    "                              GDD.to_dataset(name='GDD'),\n",
    "                              dsP['pr'].to_dataset(name = 'prcp')])\n",
    "    \n",
    "    # Annual degree days without SM\n",
    "    DD_SM = DD_SM.resample(time='Y').sum().compute()\n",
    "    \n",
    "    # EDD/SM variables based on historical threshold\n",
    "    DD_SM['EDD_SM_75_below_HIST'] = EDD.where(sm_diff_hist < -7.5).resample(time='Y').sum().compute()\n",
    "    DD_SM['EDD_SM_25_75_below_HIST'] = EDD.where((sm_diff_hist > -7.5) & (sm_diff_hist <= -2.5)).resample(time='Y').sum().compute()\n",
    "    DD_SM['EDD_SM_0_25_norm_HIST'] = EDD.where((sm_diff_hist > -2.5) & (sm_diff_hist < 2.5)).resample(time='Y').sum().compute()\n",
    "    DD_SM['EDD_SM_25_75_above_HIST'] = EDD.where((sm_diff_hist >= 2.5) & (sm_diff_hist < 7.5)).resample(time='Y').sum().compute()\n",
    "    DD_SM['EDD_SM_75_above_HIST'] = EDD.where(sm_diff_hist >= 7.5).resample(time='Y').sum().compute()\n",
    "    \n",
    "    # EDD/SM variables based on current threshold\n",
    "    DD_SM['EDD_SM_75_below_CUR'] = EDD.where(sm_diff_current < -7.5).resample(time='Y').sum().compute()\n",
    "    DD_SM['EDD_SM_25_75_below_CUR'] = EDD.where((sm_diff_current > -7.5) & (sm_diff_current <= -2.5)).resample(time='Y').sum().compute()\n",
    "    DD_SM['EDD_SM_0_25_norm_CUR'] = EDD.where((sm_diff_current > -2.5) & (sm_diff_current < 2.5)).resample(time='Y').sum().compute()\n",
    "    DD_SM['EDD_SM_25_75_above_CUR'] = EDD.where((sm_diff_current >= 2.5) & (sm_diff_current < 7.5)).resample(time='Y').sum().compute()\n",
    "    DD_SM['EDD_SM_75_above_CUR'] = EDD.where(sm_diff_current >= 7.5).resample(time='Y').sum().compute()\n",
    "    \n",
    "    # Standard SM metrics\n",
    "    DD_SM['SM_mean'] = dsSM.resample(time='Y').mean().compute()\n",
    "    DD_SM['SM_mean2'] = DD_SM['SM_mean']**2\n",
    "    # SM weekly max/min\n",
    "    DD_SM['SM_week_max'] = dsSM.resample(time='W').mean().resample(time='Y').max().compute()\n",
    "    DD_SM['SM_week_min'] = dsSM.resample(time='W').mean().resample(time='Y').min().compute()\n",
    "    \n",
    "    # Get squares\n",
    "    DD_SM['prcp2'] = DD_SM['prcp']**2\n",
    "    \n",
    "    # Tidy\n",
    "    DD_SM.attrs['NOTE1'] = 'Degree Days calculated as in DOI: 10.1111/agec.12315 supplementary material with threshold 29C. Author: David Lafferty - University of Illinois (davidcl2@illinois.edu). Date: Nov 2021'\n",
    "    DD_SM.attrs['NOTE2'] = 'For original netcdf files see: http://loca.ucsd.edu/'\n",
    "    DD_SM['SM_mean'].attrs['units'] = 'mm'\n",
    "    DD_SM['SM_week_max'].attrs['units'] = 'mm'\n",
    "    DD_SM['SM_week_min'].attrs['units'] = 'mm'\n",
    "    DD_SM['prcp'].attrs['units'] = 'mm'\n",
    "    \n",
    "    # Save \n",
    "    DD_SM.to_netcdf('/gpfs/group/kaf26/default/dcl5300/LOCA_VIC_soilMoisture/models_predictors/' + model + \n",
    "                    '/' + model + '_VIC_' + crop + '_H21_RCP45_30-50.nc')"
   ]
  },
  {
   "cell_type": "code",
   "execution_count": 10,
   "id": "7252e814-7ba2-4b88-9e29-20f133ed2dbe",
   "metadata": {},
   "outputs": [],
   "source": [
    "# # Calculate predictors: EDD and SM monthly values\n",
    "# def get_predictors_EDD_SM_intra(dsT, dsSM, model, T_thresh, crop):\n",
    "#     # DataArray\n",
    "#     dsSM = dsSM['soilMoist1']\n",
    "    \n",
    "#     # Calculate daily EDD\n",
    "#     EDD = edd_ufunc_annual(dsT['Tmin'], dsT['Tmax'], threshold = T_thresh[1])\n",
    "    \n",
    "#     # Calculate daily GDD\n",
    "#     GDD = edd_ufunc_annual(dsT['Tmin'], dsT['Tmax'], threshold = T_thresh[0])\n",
    "#     GDD = GDD - EDD\n",
    "    \n",
    "#     # Combine\n",
    "#     DD_SM = xr.combine_by_coords([EDD.to_dataset(name='EDD'),\n",
    "#                               GDD.to_dataset(name='GDD'),\n",
    "#                               dsT['Prec'].to_dataset(name = 'prcp')])\n",
    "    \n",
    "#     # Monthly degree days\n",
    "#     DD_SM = DD_SM.resample(time='M').sum().compute()\n",
    "    \n",
    "#     # Monthly SM\n",
    "#     DD_SM['SM_mean'] = dsSM.resample(time='M').mean().compute()\n",
    "    \n",
    "#     # Weekly SM\n",
    "#     DD_SM['SM_week_max'] = dsSM.resample(time='W').mean().resample(time='M').max().compute()\n",
    "#     DD_SM['SM_week_min'] = dsSM.resample(time='W').mean().resample(time='M').min().compute()\n",
    "    \n",
    "#     # Get squares\n",
    "#     DD_SM['SM_mean2'] = DD_SM['SM_mean']**2\n",
    "#     DD_SM['prcp2'] = DD_SM['prcp']**2\n",
    "    \n",
    "#     # Tidy\n",
    "#     DD_SM.attrs['NOTE1'] = 'Degree Days calculated as in DOI: 10.1111/agec.12315 supplementary material with threshold 29C. Author: David Lafferty - University of Illinois (davidcl2@illinois.edu). Date: Aug 2021'\n",
    "#     DD_SM.attrs['NOTE2'] = 'For original netcdf files see: http://loca.ucsd.edu/'\n",
    "#     DD_SM['SM_mean'].attrs['units'] = 'mm'\n",
    "#     DD_SM['SM_week_max'].attrs['units'] = 'mm'\n",
    "#     DD_SM['SM_week_min'].attrs['units'] = 'mm'\n",
    "#     DD_SM['prcp'].attrs['units'] = 'mm'\n",
    "    \n",
    "#     # Save \n",
    "#     DD_SM.to_netcdf('/gpfs/group/kaf26/default/dcl5300/LOCA_VIC_soilMoisture/models_predictors/' + model + \n",
    "#                     '/' + model + '_VIC_' + crop + '_intra_predictors.nc')"
   ]
  },
  {
   "cell_type": "code",
   "execution_count": 11,
   "id": "b06a091b-b0a3-4d6b-a620-85f0b942acb4",
   "metadata": {},
   "outputs": [],
   "source": [
    "# Aggregation function for dask delayed\n",
    "def func_agg(fips, model, predictors, crop, rcp, timeframe):\n",
    "    weights_path = '/gpfs/group/kaf26/default/dcl5300/cropland_data_layer/county_weights/'\n",
    "    \n",
    "    try:\n",
    "        # Shapefile and county bounds\n",
    "        gdf = gp.read_file('/storage/work/dcl5300/bcsd_maize_scripts/tools/plotting_tools/counties_contig_plot.shp')\n",
    "        gdf = gdf.to_crs('WGS 84')\n",
    "        gdf_fips = gdf.query('fips == \"' + fips + '\"')\n",
    "        xmin, ymin, xmax, ymax = gdf_fips.geometry.total_bounds\n",
    "        \n",
    "        # Predictor vars\n",
    "        path = '/gpfs/group/kaf26/default/dcl5300/LOCA_VIC_soilMoisture/models_predictors/'\n",
    "        ds = xr.open_dataset(path + model + '/' + model + '_VIC_' + crop + '_' + predictors + '_' + \n",
    "                             rcp + '_' + timeframe + '.nc')\n",
    "        ds['lon'] = ds['lon'] - 360.\n",
    "        ds = ds.where((ds.lat >= ymin) & (ds.lat <= ymax) & (ds.lon >= xmin) & (ds.lon <= xmax), drop=True)\n",
    "        \n",
    "        # Read in weights\n",
    "        ds_weights = xr.open_dataset(weights_path + fips + '_08-20.nc')\n",
    "        ds_weights = ds_weights.coarsen(x=10, y=10, boundary='pad').mean()\n",
    "\n",
    "        # Aggregate\n",
    "        weightmap = xa.pixel_overlaps(ds, gdf_fips, weights = ds_weights.cropland_avg)\n",
    "        aggregated = xa.aggregate(ds, weightmap).to_dataset().to_dataframe().reset_index().drop(columns = ['pix_idx'])\n",
    "        \n",
    "        # For a few counties the weighting results in all values being zero\n",
    "        if len(aggregated.query('GDD == 0.0')) > 0.0:\n",
    "            weightmap = xa.pixel_overlaps(ds, gdf_fips)\n",
    "            aggregated = xa.aggregate(ds, weightmap).to_dataset().to_dataframe().reset_index().drop(columns = ['pix_idx'])    \n",
    "        \n",
    "        # Otherwise workers will store for each county \n",
    "        del ds\n",
    "        del ds_weights\n",
    "        del gdf\n",
    "        del gdf_fips\n",
    "        del weightmap\n",
    "        \n",
    "        return aggregated\n",
    "    \n",
    "    except Exception as e:\n",
    "        print(\"{} / {} Failed : {}\".format(model, fips, str(e)))"
   ]
  },
  {
   "cell_type": "code",
   "execution_count": 12,
   "id": "79c3bafe-dabb-49e5-b648-b3317a8cf70b",
   "metadata": {},
   "outputs": [],
   "source": [
    "def get_models():\n",
    "    models_SM = !ls /gpfs/group/kaf26/default/dcl5300/LOCA_VIC_soilMoisture/models/\n",
    "    models_T = !ls /gpfs/group/kzk10/default/public/LOCA/\n",
    "    models = [model for model in models_SM if model in models_T]\n",
    "    models.remove('download.pbs')\n",
    "    return models"
   ]
  },
  {
   "cell_type": "markdown",
   "id": "1cd09e9e",
   "metadata": {
    "jp-MarkdownHeadingCollapsed": true,
    "tags": []
   },
   "source": [
    "## Maize"
   ]
  },
  {
   "cell_type": "code",
   "execution_count": 16,
   "id": "25d9c184-073a-4e2d-b3bf-cfa51c3d4738",
   "metadata": {},
   "outputs": [],
   "source": [
    "# # Get historical mean\n",
    "# dsSM = xr.open_mfdataset('/gpfs/group/kaf26/default/dcl5300/LOCA_VIC_soilMoisture/Livneh/raw/*.nc', chunks='auto', parallel=True)\n",
    "# dsSM = dsSM.rename({'Time':'time', 'Lat':'lat', 'Lon':'lon'})\n",
    "# dsSM = dsSM.sel(time=dsSM.time.dt.month.isin([4, 5, 6, 7, 8, 9]))\n",
    "# dsSM['lon'] = dsSM['lon'] + 360.\n",
    "\n",
    "# dsSM_mean = dsSM['soilMoist1'].mean(dim='time').compute()\n",
    "\n",
    "# dsSM_mean.to_netcdf('/gpfs/group/kaf26/default/dcl5300/LOCA_VIC_soilMoisture/Livneh/quantiles/Livneh_VIC_sm_mean_4-9.nc')"
   ]
  },
  {
   "cell_type": "code",
   "execution_count": 13,
   "id": "c90440ac-1771-42c6-ab2c-ea0955842148",
   "metadata": {},
   "outputs": [
    {
     "name": "stdout",
     "output_type": "stream",
     "text": [
      "mkdir: cannot create directory '/gpfs/group/kaf26/default/dcl5300/LOCA_VIC_soilMoisture/models_predictors/GFDL-ESM2M': File exists\n",
      "CPU times: user 39min 27s, sys: 1min 50s, total: 41min 17s\n",
      "Wall time: 2h 15min 21s\n"
     ]
    }
   ],
   "source": [
    "%%time\n",
    "# Haqiqi, RCP 4.5, 2030-2050\n",
    "models = get_models()\n",
    "\n",
    "for model in models:\n",
    "    # check if model is already done\n",
    "    model_dir = '/gpfs/group/kaf26/default/dcl5300/LOCA_VIC_soilMoisture/models_predictors/' + model\n",
    "    fname = model_dir + '/' + model + '_VIC_maize_H21_RCP45_30-50.nc'\n",
    "    if isfile(fname): \n",
    "        continue\n",
    "    # else\n",
    "    !mkdir $model_dir\n",
    "    \n",
    "    # Temperature & Precip\n",
    "    which_r = '/gpfs/group/kzk10/default/public/LOCA/' + model + '/16th/rcp45/'\n",
    "    which_r = !ls $which_r\n",
    "    dsTmin = xr.open_mfdataset('/gpfs/group/kzk10/default/public/LOCA/' + model + '/16th/rcp45/' + which_r[0] + '/tasmin/*.nc', chunks='auto', parallel=True)\n",
    "    dsTmax = xr.open_mfdataset('/gpfs/group/kzk10/default/public/LOCA/' + model + '/16th/rcp45/' + which_r[0] + '/tasmax/*.nc', chunks='auto', parallel=True)\n",
    "    dsP = xr.open_mfdataset('/gpfs/group/kzk10/default/public/LOCA/' + model + '/16th/rcp45/' + which_r[0] + '/pr/*.nc', chunks='auto', parallel=True)\n",
    "    \n",
    "    # Otherwise does not align with SM\n",
    "    dsTmin['time'] = dsTmin.time.dt.floor('D')\n",
    "    dsTmax['time'] = dsTmax.time.dt.floor('D')\n",
    "    dsP['time'] = dsP.time.dt.floor('D')\n",
    "    \n",
    "    # Soil moisture\n",
    "    dsSM = xr.open_mfdataset('/gpfs/group/kaf26/default/dcl5300/LOCA_VIC_soilMoisture/models/' + model + '/vic_output.rcp45.netcdf/*.nc', chunks='auto', parallel=True)\n",
    "    # Need same grid and coords\n",
    "    dsSM = dsSM.rename({'Time':'time', 'Lat':'lat', 'Lon':'lon'})\n",
    "    dsSM['lon'] = dsSM['lon'] + 360.\n",
    "    \n",
    "    # Future period\n",
    "    dsSM = dsSM.sel(time=dsSM.time.dt.year.isin(np.arange(2030,2051)))\n",
    "    dsTmin = dsTmin.sel(time=dsTmin.time.dt.year.isin(np.arange(2030,2051)))\n",
    "    dsTmax = dsTmax.sel(time=dsTmax.time.dt.year.isin(np.arange(2030,2051)))\n",
    "    dsP = dsP.sel(time=dsP.time.dt.year.isin(np.arange(2030,2051)))\n",
    "\n",
    "    # Corn growing season (following Ortiz-Bobea ERL)\n",
    "    dsSM = dsSM.sel(time=dsSM.time.dt.month.isin([4, 5, 6, 7, 8, 9]))\n",
    "    dsTmin = dsTmin.sel(time=dsTmin.time.dt.month.isin([4, 5, 6, 7, 8, 9]))\n",
    "    dsTmax = dsTmax.sel(time=dsTmax.time.dt.month.isin([4, 5, 6, 7, 8, 9]))\n",
    "    dsP = dsP.sel(time=dsP.time.dt.month.isin([4, 5, 6, 7, 8, 9]))\n",
    "    \n",
    "    # Calculate predictors\n",
    "    get_predictors_EDD_SM_H21(dsTmin, dsTmax, dsP, dsSM, model, [10.0 + 273.0, 29.0 + 273.0], 'maize')"
   ]
  },
  {
   "cell_type": "code",
   "execution_count": 31,
   "id": "81fab689-5a22-4e07-9a26-2b36061ce934",
   "metadata": {},
   "outputs": [],
   "source": [
    "# %%time\n",
    "# # Get soil moisture quantiles over entire historical time period (1950-2013)\n",
    "# # get_SM_quantiles(dsSM, 'Livneh', ['10', '30', '70', '90'], '4-9')\n",
    "\n",
    "# # Calculate predictors (EDD conditioned on quantiles)\n",
    "# get_predictors_EDD_SM_Q(dsT, dsSM, 'Livneh', [10.0, 29.0], 'maize', '4-9') # bounds from Schenker-Roberts 2009 (I checked lower bound on Powerpoint)"
   ]
  },
  {
   "cell_type": "code",
   "execution_count": 16,
   "id": "1320d70e-38e5-4951-bfa7-d4e2646d947e",
   "metadata": {},
   "outputs": [],
   "source": [
    "# %%time\n",
    "# # Calculate predictors (intra-seasonal monthly)\n",
    "# get_predictors_EDD_SM_intra(dsT, dsSM, 'Livneh', [10.0, 29.0], 'maize')"
   ]
  },
  {
   "cell_type": "markdown",
   "id": "84306b1d",
   "metadata": {
    "tags": []
   },
   "source": [
    "### Aggregate to county level"
   ]
  },
  {
   "cell_type": "code",
   "execution_count": 12,
   "id": "fc880a21-a29c-42ce-a60d-6e319afc3d24",
   "metadata": {},
   "outputs": [],
   "source": [
    "# Get unique fips codes\n",
    "ufips = get_unique_fips()"
   ]
  },
  {
   "cell_type": "code",
   "execution_count": 13,
   "id": "37ab9f05-3b7b-4d42-be28-5603ff95292c",
   "metadata": {},
   "outputs": [],
   "source": [
    "# Get models\n",
    "models = get_models()"
   ]
  },
  {
   "cell_type": "code",
   "execution_count": 14,
   "id": "7921e518-59dd-4302-9c67-1507ed58180d",
   "metadata": {},
   "outputs": [
    {
     "name": "stdout",
     "output_type": "stream",
     "text": [
      "CPU times: user 56min 26s, sys: 1min 34s, total: 58min 1s\n",
      "Wall time: 2h 33min 47s\n"
     ]
    }
   ],
   "source": [
    "%%time\n",
    "# Parallelize\n",
    "for model in models:\n",
    "    # check if already done\n",
    "    fname = '../data/future/predictors/maize/' + model + '_maize_H21_RCP45_30-50.csv'\n",
    "    if isfile(fname): \n",
    "        continue\n",
    "    # else\n",
    "    delayed_res = []\n",
    "    for fips in ufips:\n",
    "        tmp_agg = dask.delayed(func_agg)(fips, model, 'H21', 'maize', 'RCP45', '30-50')\n",
    "        delayed_res.append(tmp_agg)\n",
    "    \n",
    "    # Run\n",
    "    res = dask.compute(*delayed_res)\n",
    "\n",
    "    # To dataframe\n",
    "    df_res = pd.concat(res)\n",
    "    df_res['year'] = df_res['time'].dt.year\n",
    "    df_res.drop(columns = 'time', inplace=True)\n",
    "\n",
    "    df_res.to_csv('../data/future/predictors/maize/' + model + '_maize_H21_RCP45_30-50.csv', index=False)"
   ]
  },
  {
   "cell_type": "code",
   "execution_count": 37,
   "id": "0bc0680e-cd69-4413-8241-16ba127113bb",
   "metadata": {},
   "outputs": [
    {
     "name": "stdout",
     "output_type": "stream",
     "text": [
      "CPU times: user 2min 25s, sys: 5.36 s, total: 2min 30s\n",
      "Wall time: 15min 23s\n"
     ]
    }
   ],
   "source": [
    "# %%time\n",
    "# # Parallelize\n",
    "# delayed_res = []\n",
    "# for fips in ufips:\n",
    "#     tmp_agg = dask.delayed(func_agg)(fips, 'Livneh', 'intra_predictors', 'maize')\n",
    "#     delayed_res.append(tmp_agg)\n",
    "    \n",
    "# # Run\n",
    "# res = dask.compute(*delayed_res)"
   ]
  },
  {
   "cell_type": "code",
   "execution_count": 49,
   "id": "4dc09f00-77ab-4ad4-8d32-540853e1990e",
   "metadata": {},
   "outputs": [],
   "source": [
    "# # Monthly predictors need some organization:\n",
    "# # To dataframe\n",
    "# df_res = pd.concat(res)\n",
    "# df_res['year'] = df_res['time'].dt.year\n",
    "# df_res['month'] = df_res['time'].dt.month\n",
    "# df_res.drop(columns = 'time', inplace=True)\n",
    "\n",
    "# # Subset growing season\n",
    "# months = [4,5,6,7,8,9]\n",
    "# df_res_season = df_res[df_res.month.isin(months)]\n",
    "\n",
    "# # Predictors\n",
    "# predictor_vars = df_res_season.columns[1:-2]\n",
    "\n",
    "# # Final product\n",
    "# df_final = df_res_season[['fips' ,'year']].copy()\n",
    "\n",
    "# # Loop through each month, predictor\n",
    "# for month in months:\n",
    "#     # Temporary df with single month\n",
    "#     temp = df_res_season.query('month == ' + str(month)).copy()\n",
    "    \n",
    "#     # Rename each predictor to include monthly suffix\n",
    "#     for var in predictor_vars:\n",
    "#         temp.rename(columns = {var : var + '_' + str(month)}, inplace=True)\n",
    "        \n",
    "#     # Merge\n",
    "#     df_final = pd.merge(df_final, temp.drop(columns = 'month'), how='inner', on = ['fips', 'year'])\n",
    "    \n",
    "# # There are many duplicate rows, not sure why\n",
    "# df_final.drop_duplicates(inplace=True)\n",
    "# # Save\n",
    "# df_final.to_csv('../data/processed/predictors/Livneh/Livneh_maize_intra_predictors.csv', index=False)"
   ]
  },
  {
   "cell_type": "markdown",
   "id": "74bc2a61-079c-4d00-b316-7c003c39711d",
   "metadata": {
    "jp-MarkdownHeadingCollapsed": true,
    "tags": []
   },
   "source": [
    "## Soy"
   ]
  },
  {
   "cell_type": "code",
   "execution_count": 15,
   "id": "f5daf088-6c04-4074-a09e-8d3092a8ccf1",
   "metadata": {},
   "outputs": [
    {
     "name": "stdout",
     "output_type": "stream",
     "text": [
      "mkdir: cannot create directory '/gpfs/group/kaf26/default/dcl5300/LOCA_VIC_soilMoisture/models_predictors/ACCESS1-0': File exists\n",
      "mkdir: cannot create directory '/gpfs/group/kaf26/default/dcl5300/LOCA_VIC_soilMoisture/models_predictors/ACCESS1-3': File exists\n",
      "mkdir: cannot create directory '/gpfs/group/kaf26/default/dcl5300/LOCA_VIC_soilMoisture/models_predictors/CCSM4': File exists\n",
      "mkdir: cannot create directory '/gpfs/group/kaf26/default/dcl5300/LOCA_VIC_soilMoisture/models_predictors/CESM1-BGC': File exists\n",
      "mkdir: cannot create directory '/gpfs/group/kaf26/default/dcl5300/LOCA_VIC_soilMoisture/models_predictors/CESM1-CAM5': File exists\n",
      "mkdir: cannot create directory '/gpfs/group/kaf26/default/dcl5300/LOCA_VIC_soilMoisture/models_predictors/CMCC-CM': File exists\n",
      "mkdir: cannot create directory '/gpfs/group/kaf26/default/dcl5300/LOCA_VIC_soilMoisture/models_predictors/CMCC-CMS': File exists\n",
      "mkdir: cannot create directory '/gpfs/group/kaf26/default/dcl5300/LOCA_VIC_soilMoisture/models_predictors/CNRM-CM5': File exists\n",
      "mkdir: cannot create directory '/gpfs/group/kaf26/default/dcl5300/LOCA_VIC_soilMoisture/models_predictors/CSIRO-Mk3-6-0': File exists\n",
      "mkdir: cannot create directory '/gpfs/group/kaf26/default/dcl5300/LOCA_VIC_soilMoisture/models_predictors/CanESM2': File exists\n",
      "mkdir: cannot create directory '/gpfs/group/kaf26/default/dcl5300/LOCA_VIC_soilMoisture/models_predictors/EC-EARTH': File exists\n",
      "mkdir: cannot create directory '/gpfs/group/kaf26/default/dcl5300/LOCA_VIC_soilMoisture/models_predictors/FGOALS-g2': File exists\n",
      "mkdir: cannot create directory '/gpfs/group/kaf26/default/dcl5300/LOCA_VIC_soilMoisture/models_predictors/GFDL-CM3': File exists\n",
      "mkdir: cannot create directory '/gpfs/group/kaf26/default/dcl5300/LOCA_VIC_soilMoisture/models_predictors/GFDL-ESM2G': File exists\n",
      "mkdir: cannot create directory '/gpfs/group/kaf26/default/dcl5300/LOCA_VIC_soilMoisture/models_predictors/GFDL-ESM2M': File exists\n",
      "mkdir: cannot create directory '/gpfs/group/kaf26/default/dcl5300/LOCA_VIC_soilMoisture/models_predictors/GISS-E2-H': File exists\n",
      "mkdir: cannot create directory '/gpfs/group/kaf26/default/dcl5300/LOCA_VIC_soilMoisture/models_predictors/GISS-E2-R': File exists\n",
      "mkdir: cannot create directory '/gpfs/group/kaf26/default/dcl5300/LOCA_VIC_soilMoisture/models_predictors/HadGEM2-AO': File exists\n",
      "mkdir: cannot create directory '/gpfs/group/kaf26/default/dcl5300/LOCA_VIC_soilMoisture/models_predictors/HadGEM2-CC': File exists\n",
      "mkdir: cannot create directory '/gpfs/group/kaf26/default/dcl5300/LOCA_VIC_soilMoisture/models_predictors/HadGEM2-ES': File exists\n",
      "mkdir: cannot create directory '/gpfs/group/kaf26/default/dcl5300/LOCA_VIC_soilMoisture/models_predictors/IPSL-CM5A-LR': File exists\n",
      "mkdir: cannot create directory '/gpfs/group/kaf26/default/dcl5300/LOCA_VIC_soilMoisture/models_predictors/IPSL-CM5A-MR': File exists\n",
      "mkdir: cannot create directory '/gpfs/group/kaf26/default/dcl5300/LOCA_VIC_soilMoisture/models_predictors/MIROC-ESM': File exists\n",
      "mkdir: cannot create directory '/gpfs/group/kaf26/default/dcl5300/LOCA_VIC_soilMoisture/models_predictors/MIROC-ESM-CHEM': File exists\n",
      "mkdir: cannot create directory '/gpfs/group/kaf26/default/dcl5300/LOCA_VIC_soilMoisture/models_predictors/MIROC5': File exists\n",
      "mkdir: cannot create directory '/gpfs/group/kaf26/default/dcl5300/LOCA_VIC_soilMoisture/models_predictors/MPI-ESM-LR': File exists\n",
      "mkdir: cannot create directory '/gpfs/group/kaf26/default/dcl5300/LOCA_VIC_soilMoisture/models_predictors/MPI-ESM-MR': File exists\n",
      "mkdir: cannot create directory '/gpfs/group/kaf26/default/dcl5300/LOCA_VIC_soilMoisture/models_predictors/MRI-CGCM3': File exists\n",
      "mkdir: cannot create directory '/gpfs/group/kaf26/default/dcl5300/LOCA_VIC_soilMoisture/models_predictors/NorESM1-M': File exists\n",
      "mkdir: cannot create directory '/gpfs/group/kaf26/default/dcl5300/LOCA_VIC_soilMoisture/models_predictors/inmcm4': File exists\n",
      "CPU times: user 1h 42min 7s, sys: 3min 39s, total: 1h 45min 46s\n",
      "Wall time: 3h 28min 14s\n"
     ]
    }
   ],
   "source": [
    "%%time\n",
    "# Haqiqi, RCP 4.5, 2030-2050\n",
    "models = get_models()\n",
    "\n",
    "for model in models:\n",
    "    # check if model is already done\n",
    "    model_dir = '/gpfs/group/kaf26/default/dcl5300/LOCA_VIC_soilMoisture/models_predictors/' + model\n",
    "    fname = model_dir + '/' + model + '_VIC_soy_H21_RCP45_30-50.nc'\n",
    "    if isfile(fname): \n",
    "        continue\n",
    "    # else\n",
    "    # Temperature & Precip\n",
    "    which_r = '/gpfs/group/kzk10/default/public/LOCA/' + model + '/16th/rcp45/'\n",
    "    which_r = !ls $which_r\n",
    "    dsTmin = xr.open_mfdataset('/gpfs/group/kzk10/default/public/LOCA/' + model + '/16th/rcp45/' + which_r[0] + '/tasmin/*.nc', chunks='auto', parallel=True)\n",
    "    dsTmax = xr.open_mfdataset('/gpfs/group/kzk10/default/public/LOCA/' + model + '/16th/rcp45/' + which_r[0] + '/tasmax/*.nc', chunks='auto', parallel=True)\n",
    "    dsP = xr.open_mfdataset('/gpfs/group/kzk10/default/public/LOCA/' + model + '/16th/rcp45/' + which_r[0] + '/pr/*.nc', chunks='auto', parallel=True)\n",
    "    \n",
    "    # Otherwise does not align with SM\n",
    "    dsTmin['time'] = dsTmin.time.dt.floor('D')\n",
    "    dsTmax['time'] = dsTmax.time.dt.floor('D')\n",
    "    dsP['time'] = dsP.time.dt.floor('D')\n",
    "    \n",
    "    # Soil moisture\n",
    "    dsSM = xr.open_mfdataset('/gpfs/group/kaf26/default/dcl5300/LOCA_VIC_soilMoisture/models/' + model + '/vic_output.rcp45.netcdf/*.nc', chunks='auto', parallel=True)\n",
    "    # Need same grid and coords\n",
    "    dsSM = dsSM.rename({'Time':'time', 'Lat':'lat', 'Lon':'lon'})\n",
    "    dsSM['lon'] = dsSM['lon'] + 360.\n",
    "    \n",
    "    # Future period\n",
    "    dsSM = dsSM.sel(time=dsSM.time.dt.year.isin(np.arange(2030,2051)))\n",
    "    dsTmin = dsTmin.sel(time=dsTmin.time.dt.year.isin(np.arange(2030,2051)))\n",
    "    dsTmax = dsTmax.sel(time=dsTmax.time.dt.year.isin(np.arange(2030,2051)))\n",
    "    dsP = dsP.sel(time=dsP.time.dt.year.isin(np.arange(2030,2051)))\n",
    "\n",
    "    # Corn growing season (following Ortiz-Bobea ERL)\n",
    "    dsSM = dsSM.sel(time=dsSM.time.dt.month.isin([4, 5, 6, 7, 8, 9]))\n",
    "    dsTmin = dsTmin.sel(time=dsTmin.time.dt.month.isin([4, 5, 6, 7, 8, 9]))\n",
    "    dsTmax = dsTmax.sel(time=dsTmax.time.dt.month.isin([4, 5, 6, 7, 8, 9]))\n",
    "    dsP = dsP.sel(time=dsP.time.dt.month.isin([4, 5, 6, 7, 8, 9]))\n",
    "    \n",
    "    # Calculate predictors\n",
    "    get_predictors_EDD_SM_H21(dsTmin, dsTmax, dsP, dsSM, model, [10.0 + 273.0, 30.0 + 273.0], 'soy')"
   ]
  },
  {
   "cell_type": "markdown",
   "id": "af923ee5-6ea0-4edc-85ea-6b3aa7d1f15c",
   "metadata": {
    "tags": []
   },
   "source": [
    "### Aggregate to county level"
   ]
  },
  {
   "cell_type": "code",
   "execution_count": 16,
   "id": "7d539d01-3be9-493b-b706-30bc8dacd666",
   "metadata": {},
   "outputs": [],
   "source": [
    "# Get unique fips codes\n",
    "ufips = get_unique_fips()"
   ]
  },
  {
   "cell_type": "code",
   "execution_count": 17,
   "id": "9cd6a691-cbea-463b-9957-ccbe2aab3aa0",
   "metadata": {},
   "outputs": [],
   "source": [
    "# Get models\n",
    "models = get_models()"
   ]
  },
  {
   "cell_type": "code",
   "execution_count": 18,
   "id": "62c6f686-473b-4b81-b235-f9c84f59cf3d",
   "metadata": {},
   "outputs": [
    {
     "name": "stdout",
     "output_type": "stream",
     "text": [
      "CPU times: user 46min 45s, sys: 1min 17s, total: 48min 3s\n",
      "Wall time: 2h 26min 29s\n"
     ]
    }
   ],
   "source": [
    "%%time\n",
    "# Parallelize\n",
    "for model in models:\n",
    "    # check if already done\n",
    "    fname = '../data/future/predictors/soy/' + model + '_soy_H21_RCP45_30-50.csv'\n",
    "    if isfile(fname): \n",
    "        continue\n",
    "    # else\n",
    "    delayed_res = []\n",
    "    for fips in ufips:\n",
    "        tmp_agg = dask.delayed(func_agg)(fips, model, 'H21', 'soy', 'RCP45', '30-50')\n",
    "        delayed_res.append(tmp_agg)\n",
    "    \n",
    "    # Run\n",
    "    res = dask.compute(*delayed_res)\n",
    "\n",
    "    # To dataframe\n",
    "    df_res = pd.concat(res)\n",
    "    df_res['year'] = df_res['time'].dt.year\n",
    "    df_res.drop(columns = 'time', inplace=True)\n",
    "\n",
    "    df_res.to_csv('../data/future/predictors/soy/' + model + '_soy_H21_RCP45_30-50.csv', index=False)"
   ]
  },
  {
   "cell_type": "code",
   "execution_count": 22,
   "id": "43283d02-e098-414c-9ab4-c7c8fdbf9357",
   "metadata": {},
   "outputs": [
    {
     "name": "stdout",
     "output_type": "stream",
     "text": [
      "CPU times: user 2min 49s, sys: 7.15 s, total: 2min 56s\n",
      "Wall time: 16min 4s\n"
     ]
    }
   ],
   "source": [
    "# %%time\n",
    "# # Parallelize\n",
    "# delayed_res = []\n",
    "# for fips in ufips:\n",
    "#     tmp_agg = dask.delayed(func_agg)(fips, 'Livneh', 'intra_predictors' ,'soy')\n",
    "#     delayed_res.append(tmp_agg)\n",
    "    \n",
    "# # Run\n",
    "# res = dask.compute(*delayed_res)\n",
    "\n",
    "# # Monthly predictors need some organization:\n",
    "\n",
    "# # To dataframe\n",
    "# df_res = pd.concat(res)\n",
    "# df_res['year'] = df_res['time'].dt.year\n",
    "# df_res['month'] = df_res['time'].dt.month\n",
    "# df_res.drop(columns = 'time', inplace=True)\n",
    "\n",
    "# # Subset growing season\n",
    "# months = [4,5,6,7,8,9]\n",
    "# df_res_season = df_res[df_res.month.isin(months)]\n",
    "\n",
    "# # Predictors\n",
    "# predictor_vars = df_res_season.columns[1:-2]\n",
    "\n",
    "# # Final product\n",
    "# df_final = df_res_season[['fips' ,'year']].copy()\n",
    "\n",
    "# # Loop through each month, predictor\n",
    "# for month in months:\n",
    "#     # Temporary df with single month\n",
    "#     temp = df_res_season.query('month == ' + str(month)).copy()\n",
    "    \n",
    "#     # Rename each predictor to include monthly suffix\n",
    "#     for var in predictor_vars:\n",
    "#         temp.rename(columns = {var : var + '_' + str(month)}, inplace=True)\n",
    "        \n",
    "#     # Merge\n",
    "#     df_final = pd.merge(df_final, temp.drop(columns = 'month'), how='inner', on = ['fips', 'year'])\n",
    "    \n",
    "# # There are many duplicate rows, not sure why\n",
    "# df_final.drop_duplicates(inplace=True)\n",
    "# # Save\n",
    "# df_final.to_csv('../data/processed/predictors/Livneh/Livneh_soy_intra_predictors.csv', index=False)"
   ]
  },
  {
   "cell_type": "markdown",
   "id": "6706cba8-e357-47b7-862e-e039dc114eb4",
   "metadata": {
    "jp-MarkdownHeadingCollapsed": true,
    "tags": []
   },
   "source": [
    "## Sorghum"
   ]
  },
  {
   "cell_type": "code",
   "execution_count": null,
   "id": "c1df2ff2-f8b2-479d-bd41-1f6c58458044",
   "metadata": {},
   "outputs": [],
   "source": [
    "##### Same as soy ########\n",
    "\n",
    "# Growing season: Ortiz-Bobea ERL\n",
    "# Bounds: https://iopscience.iop.org/article/10.1088/1748-9326/5/1/014010"
   ]
  },
  {
   "cell_type": "markdown",
   "id": "8189f7c5-0c5c-42d8-8759-4dead4ab2f25",
   "metadata": {
    "jp-MarkdownHeadingCollapsed": true,
    "tags": []
   },
   "source": [
    "## Cotton"
   ]
  },
  {
   "cell_type": "code",
   "execution_count": 17,
   "id": "de37e257-f351-4060-beed-6f23d31bc47f",
   "metadata": {},
   "outputs": [
    {
     "name": "stdout",
     "output_type": "stream",
     "text": [
      "MRI-CGCM3\n",
      "NorESM1-M\n",
      "inmcm4\n",
      "CPU times: user 10min 56s, sys: 21.4 s, total: 11min 18s\n",
      "Wall time: 22min 46s\n"
     ]
    }
   ],
   "source": [
    "%%time\n",
    "# Haqiqi, RCP 4.5, 2030-2050\n",
    "models = get_models()\n",
    "\n",
    "for model in models:\n",
    "    # check if model is already done\n",
    "    model_dir = '/gpfs/group/kaf26/default/dcl5300/LOCA_VIC_soilMoisture/models_predictors/' + model\n",
    "    fname = model_dir + '/' + model + '_VIC_cotton_H21_RCP45_30-50.nc'\n",
    "    if isfile(fname): \n",
    "        continue\n",
    "    # else\n",
    "    print(model)\n",
    "    # Temperature & Precip\n",
    "    which_r = '/gpfs/group/kzk10/default/public/LOCA/' + model + '/16th/rcp45/'\n",
    "    which_r = !ls $which_r\n",
    "    dsTmin = xr.open_mfdataset('/gpfs/group/kzk10/default/public/LOCA/' + model + '/16th/rcp45/' + which_r[0] + '/tasmin/*.nc', chunks='auto', parallel=True)\n",
    "    dsTmax = xr.open_mfdataset('/gpfs/group/kzk10/default/public/LOCA/' + model + '/16th/rcp45/' + which_r[0] + '/tasmax/*.nc', chunks='auto', parallel=True)\n",
    "    dsP = xr.open_mfdataset('/gpfs/group/kzk10/default/public/LOCA/' + model + '/16th/rcp45/' + which_r[0] + '/pr/*.nc', chunks='auto', parallel=True)\n",
    "    \n",
    "    # Otherwise does not align with SM\n",
    "    dsTmin['time'] = dsTmin.time.dt.floor('D')\n",
    "    dsTmax['time'] = dsTmax.time.dt.floor('D')\n",
    "    dsP['time'] = dsP.time.dt.floor('D')\n",
    "    \n",
    "    # Soil moisture\n",
    "    dsSM = xr.open_mfdataset('/gpfs/group/kaf26/default/dcl5300/LOCA_VIC_soilMoisture/models/' + model + '/vic_output.rcp45.netcdf/*.nc', chunks='auto', parallel=True)\n",
    "    # Need same grid and coords\n",
    "    dsSM = dsSM.rename({'Time':'time', 'Lat':'lat', 'Lon':'lon'})\n",
    "    dsSM['lon'] = dsSM['lon'] + 360.\n",
    "    \n",
    "    # Future period\n",
    "    dsSM = dsSM.sel(time=dsSM.time.dt.year.isin(np.arange(2030,2051)))\n",
    "    dsTmin = dsTmin.sel(time=dsTmin.time.dt.year.isin(np.arange(2030,2051)))\n",
    "    dsTmax = dsTmax.sel(time=dsTmax.time.dt.year.isin(np.arange(2030,2051)))\n",
    "    dsP = dsP.sel(time=dsP.time.dt.year.isin(np.arange(2030,2051)))\n",
    "\n",
    "    # Corn growing season (following Ortiz-Bobea ERL)\n",
    "    dsSM = dsSM.sel(time=dsSM.time.dt.month.isin([4, 5, 6, 7, 8, 9]))\n",
    "    dsTmin = dsTmin.sel(time=dsTmin.time.dt.month.isin([4, 5, 6, 7, 8, 9]))\n",
    "    dsTmax = dsTmax.sel(time=dsTmax.time.dt.month.isin([4, 5, 6, 7, 8, 9]))\n",
    "    dsP = dsP.sel(time=dsP.time.dt.month.isin([4, 5, 6, 7, 8, 9]))\n",
    "    \n",
    "    # Calculate predictors\n",
    "    get_predictors_EDD_SM_H21(dsTmin, dsTmax, dsP, dsSM, model, [15.0 + 273.0, 32.0 + 273.0], 'cotton')"
   ]
  },
  {
   "cell_type": "markdown",
   "id": "f3263005-f34a-467b-83d3-cccd1bea8c95",
   "metadata": {
    "tags": []
   },
   "source": [
    "### Aggregate to county level"
   ]
  },
  {
   "cell_type": "code",
   "execution_count": 14,
   "id": "aa1ee966-be37-4b6b-85e8-9af0227ed5f9",
   "metadata": {},
   "outputs": [],
   "source": [
    "# Get unique fips codes\n",
    "ufips = get_unique_fips()"
   ]
  },
  {
   "cell_type": "code",
   "execution_count": 15,
   "id": "7be7ba60-b1fd-4f5b-a01e-20a749933966",
   "metadata": {},
   "outputs": [],
   "source": [
    "# Get models\n",
    "models = get_models()"
   ]
  },
  {
   "cell_type": "code",
   "execution_count": 21,
   "id": "9f81534f-c6d5-4bec-8d85-d22d997b5f30",
   "metadata": {},
   "outputs": [
    {
     "name": "stdout",
     "output_type": "stream",
     "text": [
      "MRI-CGCM3\n",
      "NorESM1-M\n",
      "inmcm4\n",
      "CPU times: user 5min 47s, sys: 7.32 s, total: 5min 54s\n",
      "Wall time: 15min 45s\n"
     ]
    }
   ],
   "source": [
    "%%time\n",
    "# Parallelize\n",
    "for model in models:\n",
    "    # check if already done\n",
    "    fname = '../data/future/predictors/cotton/' + model + '_cotton_H21_RCP45_30-50.csv'\n",
    "    if isfile(fname): \n",
    "        continue\n",
    "    # else\n",
    "    print(model)\n",
    "    delayed_res = []\n",
    "    for fips in ufips:\n",
    "        tmp_agg = dask.delayed(func_agg)(fips, model, 'H21', 'cotton', 'RCP45', '30-50')\n",
    "        delayed_res.append(tmp_agg)\n",
    "    \n",
    "    # Run\n",
    "    res = dask.compute(*delayed_res)\n",
    "\n",
    "    # To dataframe\n",
    "    df_res = pd.concat(res)\n",
    "    df_res['year'] = df_res['time'].dt.year\n",
    "    df_res.drop(columns = 'time', inplace=True)\n",
    "\n",
    "    df_res.to_csv('../data/future/predictors/cotton/' + model + '_cotton_H21_RCP45_30-50.csv', index=False)"
   ]
  },
  {
   "cell_type": "code",
   "execution_count": null,
   "id": "01b63b8f-2159-4b2d-915e-69de66ab862f",
   "metadata": {},
   "outputs": [],
   "source": [
    "# Bio2: Mean 'diurnal' range\n",
    "bio2 = (ds_monthly['Tmax'] - ds_monthly['Tmin']).mean(dim='time')"
   ]
  },
  {
   "cell_type": "code",
   "execution_count": null,
   "id": "1a1c20df-ba1b-4087-8f33-e18fe64a158b",
   "metadata": {},
   "outputs": [],
   "source": [
    "# Bio4: Temperature seasonality (SD)\n",
    "bio4 = (ds_monthly['Tmax'] + ds_monthly['Tmin']) / 2.\n",
    "bio4 = bio4.resample(time='Y').std().mean(dim='time')"
   ]
  },
  {
   "cell_type": "code",
   "execution_count": null,
   "id": "9f748641-083b-483f-965a-9717897083a4",
   "metadata": {},
   "outputs": [],
   "source": [
    "# Bio12: Annual (total) precipitation\n",
    "bio12 = ds['Prec'].resample(time='Y').sum().mean(dim='time').compute() / 100."
   ]
  },
  {
   "cell_type": "code",
   "execution_count": null,
   "id": "bb96a425-dd99-45f5-8980-80acc207ab0a",
   "metadata": {},
   "outputs": [],
   "source": [
    "# Bio7: Annual temperature range\n",
    "bio7 = ds_monthly['Tmax'].resample(time='Y').max() - ds_monthly['Tmin'].resample(time='Y').min()\n",
    "bio7 = bio7.mean(dim='time')"
   ]
  },
  {
   "cell_type": "code",
   "execution_count": null,
   "id": "356290f8-d123-49a0-afc1-37234360e129",
   "metadata": {},
   "outputs": [],
   "source": [
    "# Bio3: Isothermality (bio2 / bio7)\n",
    "bio3 = 100 * bio2 / bio7"
   ]
  },
  {
   "cell_type": "code",
   "execution_count": null,
   "id": "cce9a48c-3529-43f5-9f98-91c885e3c88b",
   "metadata": {},
   "outputs": [],
   "source": [
    "# Bio15: Precip CV\n",
    "bio15 = ds_monthly['Prec'].resample(time='Y').mean() / ds_monthly['Prec'].resample(time='Y').std()\n",
    "bio15 = bio15.mean(dim='time')"
   ]
  },
  {
   "cell_type": "code",
   "execution_count": 290,
   "id": "90a8c8f2-7d08-4fc7-8554-2cc648bbb4b5",
   "metadata": {},
   "outputs": [],
   "source": [
    "# Save\n",
    "bio_all = xr.merge([bio1.rename('bio_1'),\n",
    "                       bio2.rename('bio_2'),\n",
    "                       bio3.rename('bio_3'),\n",
    "                       bio4.rename('bio_4'),\n",
    "                       bio7.rename('bio_7'),\n",
    "                       bio12.rename('bio_12'),\n",
    "                       bio15.rename('bio_15')])\n",
    "\n",
    "bio_all.attrs['NOTE'] = 'https://www.worldclim.org/data/bioclim.html'\n",
    "bio_all.to_netcdf('/gpfs/group/kaf26/default/dcl5300/bioclim_all.nc')"
   ]
  },
  {
   "cell_type": "markdown",
   "id": "631b5752-2ae3-4c2c-860c-2453b465db56",
   "metadata": {},
   "source": [
    "## Barley"
   ]
  },
  {
   "cell_type": "code",
   "execution_count": 13,
   "id": "b7a262d5-7ea6-4993-8ee1-8ca318a46700",
   "metadata": {},
   "outputs": [
    {
     "name": "stdout",
     "output_type": "stream",
     "text": [
      "ACCESS1-0\n",
      "ACCESS1-3\n",
      "CCSM4\n",
      "CESM1-BGC\n",
      "CESM1-CAM5\n",
      "CMCC-CM\n",
      "CMCC-CMS\n",
      "CNRM-CM5\n",
      "CSIRO-Mk3-6-0\n",
      "CanESM2\n",
      "EC-EARTH\n",
      "FGOALS-g2\n",
      "GFDL-CM3\n",
      "GFDL-ESM2G\n",
      "GFDL-ESM2M\n",
      "GISS-E2-H\n",
      "GISS-E2-R\n",
      "HadGEM2-AO\n",
      "HadGEM2-CC\n",
      "HadGEM2-ES\n",
      "IPSL-CM5A-LR\n",
      "IPSL-CM5A-MR\n",
      "MIROC-ESM\n",
      "MIROC-ESM-CHEM\n",
      "MIROC5\n",
      "MPI-ESM-LR\n",
      "MPI-ESM-MR\n",
      "MRI-CGCM3\n",
      "NorESM1-M\n",
      "inmcm4\n",
      "CPU times: user 50min 19s, sys: 2min 49s, total: 53min 8s\n",
      "Wall time: 3h 37min 6s\n"
     ]
    }
   ],
   "source": [
    "%%time\n",
    "# Haqiqi, RCP 4.5, 2030-2050\n",
    "models = get_models()\n",
    "\n",
    "for model in models:\n",
    "    # check if model is already done\n",
    "    model_dir = '/gpfs/group/kaf26/default/dcl5300/LOCA_VIC_soilMoisture/models_predictors/' + model\n",
    "    fname = model_dir + '/' + model + '_VIC_barley_H21_RCP45_30-50.nc'\n",
    "    if isfile(fname): \n",
    "        continue\n",
    "    # else\n",
    "    print(model)\n",
    "    # Temperature & Precip\n",
    "    which_r = '/gpfs/group/kzk10/default/public/LOCA/' + model + '/16th/rcp45/'\n",
    "    which_r = !ls $which_r\n",
    "    dsTmin = xr.open_mfdataset('/gpfs/group/kzk10/default/public/LOCA/' + model + '/16th/rcp45/' + which_r[0] + '/tasmin/*.nc', chunks='auto', parallel=True)\n",
    "    dsTmax = xr.open_mfdataset('/gpfs/group/kzk10/default/public/LOCA/' + model + '/16th/rcp45/' + which_r[0] + '/tasmax/*.nc', chunks='auto', parallel=True)\n",
    "    dsP = xr.open_mfdataset('/gpfs/group/kzk10/default/public/LOCA/' + model + '/16th/rcp45/' + which_r[0] + '/pr/*.nc', chunks='auto', parallel=True)\n",
    "    \n",
    "    # Otherwise does not align with SM\n",
    "    dsTmin['time'] = dsTmin.time.dt.floor('D')\n",
    "    dsTmax['time'] = dsTmax.time.dt.floor('D')\n",
    "    dsP['time'] = dsP.time.dt.floor('D')\n",
    "    \n",
    "    # Soil moisture\n",
    "    dsSM = xr.open_mfdataset('/gpfs/group/kaf26/default/dcl5300/LOCA_VIC_soilMoisture/models/' + model + '/vic_output.rcp45.netcdf/*.nc', chunks='auto', parallel=True)\n",
    "    # Need same grid and coords\n",
    "    dsSM = dsSM.rename({'Time':'time', 'Lat':'lat', 'Lon':'lon'})\n",
    "    dsSM['lon'] = dsSM['lon'] + 360.\n",
    "    \n",
    "    # Future period\n",
    "    dsSM = dsSM.sel(time=dsSM.time.dt.year.isin(np.arange(2030,2051)))\n",
    "    dsTmin = dsTmin.sel(time=dsTmin.time.dt.year.isin(np.arange(2030,2051)))\n",
    "    dsTmax = dsTmax.sel(time=dsTmax.time.dt.year.isin(np.arange(2030,2051)))\n",
    "    dsP = dsP.sel(time=dsP.time.dt.year.isin(np.arange(2030,2051)))\n",
    "\n",
    "    # Growing season (following USDA NASS)\n",
    "    dsSM = dsSM.sel(time=dsSM.time.dt.month.isin([4, 5, 6, 7, 8]))\n",
    "    dsTmin = dsTmin.sel(time=dsTmin.time.dt.month.isin([4, 5, 6, 7, 8]))\n",
    "    dsTmax = dsTmax.sel(time=dsTmax.time.dt.month.isin([4, 5, 6, 7, 8]))\n",
    "    dsP = dsP.sel(time=dsP.time.dt.month.isin([4, 5, 6, 7, 8]))\n",
    "    \n",
    "    # Calculate predictors\n",
    "    get_predictors_EDD_SM_H21(dsTmin, dsTmax, dsP, dsSM, model, [0.0 + 273.0, 15.0 + 273.0], 'barley')"
   ]
  },
  {
   "cell_type": "markdown",
   "id": "3e1f0eed-e9ac-4110-8d98-a5a3985115d0",
   "metadata": {
    "tags": []
   },
   "source": [
    "### Aggregate to county level"
   ]
  },
  {
   "cell_type": "code",
   "execution_count": 14,
   "id": "3700ced6-466c-4212-b9a5-06a98d685420",
   "metadata": {},
   "outputs": [],
   "source": [
    "# Get unique fips codes\n",
    "ufips = get_unique_fips()"
   ]
  },
  {
   "cell_type": "code",
   "execution_count": 15,
   "id": "ee59623a-9684-4e21-bcf7-ce3bb604cfb3",
   "metadata": {},
   "outputs": [],
   "source": [
    "# Get models\n",
    "models = get_models()"
   ]
  },
  {
   "cell_type": "code",
   "execution_count": 16,
   "id": "12ace496-6f0a-4a48-8787-4f1ce4964d1d",
   "metadata": {},
   "outputs": [
    {
     "name": "stdout",
     "output_type": "stream",
     "text": [
      "ACCESS1-0\n",
      "ACCESS1-3\n",
      "CCSM4\n",
      "CESM1-BGC\n",
      "CESM1-CAM5\n",
      "CMCC-CM\n",
      "CMCC-CMS\n",
      "CNRM-CM5\n",
      "CSIRO-Mk3-6-0\n",
      "CanESM2\n",
      "EC-EARTH\n",
      "FGOALS-g2\n",
      "GFDL-CM3\n",
      "GFDL-ESM2G\n",
      "GFDL-ESM2M\n",
      "GISS-E2-H\n",
      "GISS-E2-R\n",
      "HadGEM2-AO\n",
      "HadGEM2-CC\n",
      "HadGEM2-ES\n",
      "IPSL-CM5A-LR\n",
      "IPSL-CM5A-MR\n",
      "MIROC-ESM\n",
      "MIROC-ESM-CHEM\n",
      "MIROC5\n",
      "MPI-ESM-LR\n",
      "MPI-ESM-MR\n",
      "MRI-CGCM3\n",
      "NorESM1-M\n",
      "inmcm4\n",
      "CPU times: user 25min 30s, sys: 1min 2s, total: 26min 33s\n",
      "Wall time: 2h 33min 41s\n"
     ]
    }
   ],
   "source": [
    "%%time\n",
    "# Parallelize\n",
    "for model in models:\n",
    "    # check if already done\n",
    "    fname = '../data/future/predictors/barley/' + model + '_barley_H21_RCP45_30-50.csv'\n",
    "    if isfile(fname): \n",
    "        continue\n",
    "    # else\n",
    "    print(model)\n",
    "    delayed_res = []\n",
    "    for fips in ufips:\n",
    "        tmp_agg = dask.delayed(func_agg)(fips, model, 'H21', 'barley', 'RCP45', '30-50')\n",
    "        delayed_res.append(tmp_agg)\n",
    "    \n",
    "    # Run\n",
    "    res = dask.compute(*delayed_res)\n",
    "\n",
    "    # To dataframe\n",
    "    df_res = pd.concat(res)\n",
    "    df_res['year'] = df_res['time'].dt.year\n",
    "    df_res.drop(columns = 'time', inplace=True)\n",
    "\n",
    "    df_res.to_csv('../data/future/predictors/barley/' + model + '_barley_H21_RCP45_30-50.csv', index=False)"
   ]
  },
  {
   "cell_type": "markdown",
   "id": "00a8a58c-fe6f-4832-a774-3ed959334895",
   "metadata": {},
   "source": [
    "## Spring wheat"
   ]
  },
  {
   "cell_type": "code",
   "execution_count": 17,
   "id": "e2001c69-3569-4e28-bb53-756fe4598d72",
   "metadata": {},
   "outputs": [
    {
     "name": "stdout",
     "output_type": "stream",
     "text": [
      "ACCESS1-0\n",
      "ACCESS1-3\n",
      "CCSM4\n",
      "CESM1-BGC\n",
      "CESM1-CAM5\n",
      "CMCC-CM\n",
      "CMCC-CMS\n",
      "CNRM-CM5\n",
      "CSIRO-Mk3-6-0\n",
      "CanESM2\n",
      "EC-EARTH\n",
      "FGOALS-g2\n",
      "GFDL-CM3\n",
      "GFDL-ESM2G\n",
      "GFDL-ESM2M\n",
      "GISS-E2-H\n",
      "GISS-E2-R\n",
      "HadGEM2-AO\n",
      "HadGEM2-CC\n",
      "HadGEM2-ES\n",
      "IPSL-CM5A-LR\n",
      "IPSL-CM5A-MR\n",
      "MIROC-ESM\n",
      "MIROC-ESM-CHEM\n",
      "MIROC5\n",
      "MPI-ESM-LR\n",
      "MPI-ESM-MR\n",
      "MRI-CGCM3\n",
      "NorESM1-M\n",
      "inmcm4\n",
      "CPU times: user 48min 59s, sys: 3min 13s, total: 52min 13s\n",
      "Wall time: 3h 19min 59s\n"
     ]
    }
   ],
   "source": [
    "%%time\n",
    "# Haqiqi, RCP 4.5, 2030-2050\n",
    "models = get_models()\n",
    "\n",
    "for model in models:\n",
    "    # check if model is already done\n",
    "    model_dir = '/gpfs/group/kaf26/default/dcl5300/LOCA_VIC_soilMoisture/models_predictors/' + model\n",
    "    fname = model_dir + '/' + model + '_VIC_springwheat_H21_RCP45_30-50.nc'\n",
    "    if isfile(fname): \n",
    "        continue\n",
    "    # else\n",
    "    print(model)\n",
    "    # Temperature & Precip\n",
    "    which_r = '/gpfs/group/kzk10/default/public/LOCA/' + model + '/16th/rcp45/'\n",
    "    which_r = !ls $which_r\n",
    "    dsTmin = xr.open_mfdataset('/gpfs/group/kzk10/default/public/LOCA/' + model + '/16th/rcp45/' + which_r[0] + '/tasmin/*.nc', chunks='auto', parallel=True)\n",
    "    dsTmax = xr.open_mfdataset('/gpfs/group/kzk10/default/public/LOCA/' + model + '/16th/rcp45/' + which_r[0] + '/tasmax/*.nc', chunks='auto', parallel=True)\n",
    "    dsP = xr.open_mfdataset('/gpfs/group/kzk10/default/public/LOCA/' + model + '/16th/rcp45/' + which_r[0] + '/pr/*.nc', chunks='auto', parallel=True)\n",
    "    \n",
    "    # Otherwise does not align with SM\n",
    "    dsTmin['time'] = dsTmin.time.dt.floor('D')\n",
    "    dsTmax['time'] = dsTmax.time.dt.floor('D')\n",
    "    dsP['time'] = dsP.time.dt.floor('D')\n",
    "    \n",
    "    # Soil moisture\n",
    "    dsSM = xr.open_mfdataset('/gpfs/group/kaf26/default/dcl5300/LOCA_VIC_soilMoisture/models/' + model + '/vic_output.rcp45.netcdf/*.nc', chunks='auto', parallel=True)\n",
    "    # Need same grid and coords\n",
    "    dsSM = dsSM.rename({'Time':'time', 'Lat':'lat', 'Lon':'lon'})\n",
    "    dsSM['lon'] = dsSM['lon'] + 360.\n",
    "    \n",
    "    # Future period\n",
    "    dsSM = dsSM.sel(time=dsSM.time.dt.year.isin(np.arange(2030,2051)))\n",
    "    dsTmin = dsTmin.sel(time=dsTmin.time.dt.year.isin(np.arange(2030,2051)))\n",
    "    dsTmax = dsTmax.sel(time=dsTmax.time.dt.year.isin(np.arange(2030,2051)))\n",
    "    dsP = dsP.sel(time=dsP.time.dt.year.isin(np.arange(2030,2051)))\n",
    "\n",
    "    # Corn growing season (following Ortiz-Bobea ERL)\n",
    "    dsSM = dsSM.sel(time=dsSM.time.dt.month.isin([4, 5, 6, 7, 8]))\n",
    "    dsTmin = dsTmin.sel(time=dsTmin.time.dt.month.isin([4, 5, 6, 7, 8]))\n",
    "    dsTmax = dsTmax.sel(time=dsTmax.time.dt.month.isin([4, 5, 6, 7, 8]))\n",
    "    dsP = dsP.sel(time=dsP.time.dt.month.isin([4, 5, 6, 7, 8]))\n",
    "    \n",
    "    # Calculate predictors\n",
    "    get_predictors_EDD_SM_H21(dsTmin, dsTmax, dsP, dsSM, model, [5.0 + 273.0, 26.0 + 273.0], 'springwheat')"
   ]
  },
  {
   "cell_type": "markdown",
   "id": "5d8b575f-d079-4f7f-93ff-2fbdd8dc3883",
   "metadata": {
    "tags": []
   },
   "source": [
    "### Aggregate to county level"
   ]
  },
  {
   "cell_type": "code",
   "execution_count": 18,
   "id": "77e85caa-d9cb-4dc0-b3d1-207a51feb31c",
   "metadata": {},
   "outputs": [],
   "source": [
    "# Get unique fips codes\n",
    "ufips = get_unique_fips()"
   ]
  },
  {
   "cell_type": "code",
   "execution_count": 19,
   "id": "c5f320a7-44d6-4c68-8cce-56636243b7e9",
   "metadata": {},
   "outputs": [],
   "source": [
    "# Get models\n",
    "models = get_models()"
   ]
  },
  {
   "cell_type": "code",
   "execution_count": 20,
   "id": "5050465c-2c6c-40c5-a89a-74774a09329e",
   "metadata": {},
   "outputs": [
    {
     "name": "stdout",
     "output_type": "stream",
     "text": [
      "ACCESS1-0\n",
      "ACCESS1-3\n",
      "CCSM4\n",
      "CESM1-BGC\n",
      "CESM1-CAM5\n",
      "CMCC-CM\n",
      "CMCC-CMS\n",
      "CNRM-CM5\n",
      "CSIRO-Mk3-6-0\n",
      "CanESM2\n",
      "EC-EARTH\n",
      "FGOALS-g2\n",
      "GFDL-CM3\n",
      "GFDL-ESM2G\n",
      "GFDL-ESM2M\n",
      "GISS-E2-H\n",
      "GISS-E2-R\n",
      "HadGEM2-AO\n",
      "HadGEM2-CC\n",
      "HadGEM2-ES\n",
      "IPSL-CM5A-LR\n",
      "IPSL-CM5A-MR\n",
      "MIROC-ESM\n",
      "MIROC-ESM-CHEM\n",
      "MIROC5\n",
      "MPI-ESM-LR\n",
      "MPI-ESM-MR\n",
      "MRI-CGCM3\n",
      "NorESM1-M\n",
      "inmcm4\n",
      "CPU times: user 25min 27s, sys: 1min 4s, total: 26min 32s\n",
      "Wall time: 2h 29min 5s\n"
     ]
    }
   ],
   "source": [
    "%%time\n",
    "# Parallelize\n",
    "for model in models:\n",
    "    # check if already done\n",
    "    fname = '../data/future/predictors/springwheat/' + model + '_springwheat_H21_RCP45_30-50.csv'\n",
    "    if isfile(fname): \n",
    "        continue\n",
    "    # else\n",
    "    print(model)\n",
    "    delayed_res = []\n",
    "    for fips in ufips:\n",
    "        tmp_agg = dask.delayed(func_agg)(fips, model, 'H21', 'springwheat', 'RCP45', '30-50')\n",
    "        delayed_res.append(tmp_agg)\n",
    "    \n",
    "    # Run\n",
    "    res = dask.compute(*delayed_res)\n",
    "\n",
    "    # To dataframe\n",
    "    df_res = pd.concat(res)\n",
    "    df_res['year'] = df_res['time'].dt.year\n",
    "    df_res.drop(columns = 'time', inplace=True)\n",
    "\n",
    "    df_res.to_csv('../data/future/predictors/cotton/' + model + '_springwheat_H21_RCP45_30-50.csv', index=False)"
   ]
  },
  {
   "cell_type": "code",
   "execution_count": null,
   "id": "ef149017-c188-43e8-bf80-324d93669f69",
   "metadata": {},
   "outputs": [],
   "source": []
  }
 ],
 "metadata": {
  "kernelspec": {
   "display_name": "Python 3 (ipykernel)",
   "language": "python",
   "name": "python3"
  },
  "language_info": {
   "codemirror_mode": {
    "name": "ipython",
    "version": 3
   },
   "file_extension": ".py",
   "mimetype": "text/x-python",
   "name": "python",
   "nbconvert_exporter": "python",
   "pygments_lexer": "ipython3",
   "version": "3.9.6"
  }
 },
 "nbformat": 4,
 "nbformat_minor": 5
}
