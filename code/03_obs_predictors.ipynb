{
 "cells": [
  {
   "cell_type": "code",
   "execution_count": 1,
   "id": "f65cc450",
   "metadata": {},
   "outputs": [
    {
     "data": {
      "text/plain": [
       "<dask.config.set at 0x2abe60a70d90>"
      ]
     },
     "execution_count": 1,
     "metadata": {},
     "output_type": "execute_result"
    }
   ],
   "source": [
    "import numpy as np\n",
    "import pandas as pd\n",
    "import xarray as xr\n",
    "import xagg as xa\n",
    "import geopandas as gp\n",
    "import rioxarray\n",
    "import dask\n",
    "from os.path import isfile\n",
    "from dask.distributed import Queue\n",
    "\n",
    "import pyproj\n",
    "pyproj.datadir.set_data_dir('/storage/home/d/dcl5300/work/ENVS/cropswitching/share/proj')\n",
    "\n",
    "import warnings\n",
    "warnings.simplefilter(\"ignore\", RuntimeWarning) # Ignore invalid arcsin() in EDD calculation\n",
    "\n",
    "dask.config.set({'array.slicing.split_large_chunks': False})"
   ]
  },
  {
   "cell_type": "markdown",
   "id": "8df4b09d",
   "metadata": {
    "jp-MarkdownHeadingCollapsed": true,
    "tags": []
   },
   "source": [
    "## Dask (cluster)"
   ]
  },
  {
   "cell_type": "code",
   "execution_count": 2,
   "id": "9763f50a",
   "metadata": {},
   "outputs": [],
   "source": [
    "from dask_jobqueue import PBSCluster\n",
    "cluster = PBSCluster(cores=1, resource_spec='pmem=20GB', memory='20GB', walltime='00:60:00')"
   ]
  },
  {
   "cell_type": "code",
   "execution_count": 3,
   "id": "11ea7d66-097c-4096-9f0d-c84147d982a4",
   "metadata": {},
   "outputs": [],
   "source": [
    "# print(cluster.job_script())"
   ]
  },
  {
   "cell_type": "code",
   "execution_count": 4,
   "id": "5b07a292",
   "metadata": {},
   "outputs": [],
   "source": [
    "cluster.scale(jobs=25)  # ask for jobs"
   ]
  },
  {
   "cell_type": "code",
   "execution_count": 5,
   "id": "f82a663b",
   "metadata": {},
   "outputs": [],
   "source": [
    "from dask.distributed import Client\n",
    "client = Client(cluster)"
   ]
  },
  {
   "cell_type": "code",
   "execution_count": 6,
   "id": "6597e8aa",
   "metadata": {},
   "outputs": [
    {
     "data": {
      "text/html": [
       "<div>\n",
       "    <div style=\"width: 24px; height: 24px; background-color: #e1e1e1; border: 3px solid #9D9D9D; border-radius: 5px; position: absolute;\"> </div>\n",
       "    <div style=\"margin-left: 48px;\">\n",
       "        <h3 style=\"margin-bottom: 0px;\">Client</h3>\n",
       "        <p style=\"color: #9D9D9D; margin-bottom: 0px;\">Client-a4b13cc5-553e-11ec-86aa-74e6e27321d6</p>\n",
       "        <table style=\"width: 100%; text-align: left;\">\n",
       "\n",
       "        <tr>\n",
       "        \n",
       "            <td style=\"text-align: left;\"><strong>Connection method:</strong> Cluster object</td>\n",
       "            <td style=\"text-align: left;\"><strong>Cluster type:</strong> PBSCluster</td>\n",
       "        \n",
       "        </tr>\n",
       "\n",
       "        \n",
       "            <tr>\n",
       "                <td style=\"text-align: left;\">\n",
       "                    <strong>Dashboard: </strong> <a href=\"/proxy/8787/status\">/proxy/8787/status</a>\n",
       "                </td>\n",
       "                <td style=\"text-align: left;\"></td>\n",
       "            </tr>\n",
       "        \n",
       "\n",
       "        </table>\n",
       "\n",
       "        \n",
       "            <details>\n",
       "            <summary style=\"margin-bottom: 20px;\"><h3 style=\"display: inline;\">Cluster Info</h3></summary>\n",
       "            <div class=\"jp-RenderedHTMLCommon jp-RenderedHTML jp-mod-trusted jp-OutputArea-output\">\n",
       "    <div style=\"width: 24px; height: 24px; background-color: #e1e1e1; border: 3px solid #9D9D9D; border-radius: 5px; position: absolute;\">\n",
       "    </div>\n",
       "    <div style=\"margin-left: 48px;\">\n",
       "        <h3 style=\"margin-bottom: 0px; margin-top: 0px;\">PBSCluster</h3>\n",
       "        <p style=\"color: #9D9D9D; margin-bottom: 0px;\">964b77ca</p>\n",
       "        <table style=\"width: 100%; text-align: left;\">\n",
       "            <tr>\n",
       "                <td style=\"text-align: left;\">\n",
       "                    <strong>Dashboard:</strong> <a href=\"/proxy/8787/status\">/proxy/8787/status</a>\n",
       "                </td>\n",
       "                <td style=\"text-align: left;\">\n",
       "                    <strong>Workers:</strong> 0\n",
       "                </td>\n",
       "            </tr>\n",
       "            <tr>\n",
       "                <td style=\"text-align: left;\">\n",
       "                    <strong>Total threads:</strong> 0\n",
       "                </td>\n",
       "                <td style=\"text-align: left;\">\n",
       "                    <strong>Total memory:</strong> 0 B\n",
       "                </td>\n",
       "            </tr>\n",
       "            \n",
       "        </table>\n",
       "\n",
       "        <details>\n",
       "            <summary style=\"margin-bottom: 20px;\">\n",
       "                <h3 style=\"display: inline;\">Scheduler Info</h3>\n",
       "            </summary>\n",
       "\n",
       "            <div style=\"\">\n",
       "    <div>\n",
       "        <div style=\"width: 24px; height: 24px; background-color: #FFF7E5; border: 3px solid #FF6132; border-radius: 5px; position: absolute;\"> </div>\n",
       "        <div style=\"margin-left: 48px;\">\n",
       "            <h3 style=\"margin-bottom: 0px;\">Scheduler</h3>\n",
       "            <p style=\"color: #9D9D9D; margin-bottom: 0px;\">Scheduler-84af1182-5094-4bb8-8cff-7b4606fc91d6</p>\n",
       "            <table style=\"width: 100%; text-align: left;\">\n",
       "                <tr>\n",
       "                    <td style=\"text-align: left;\">\n",
       "                        <strong>Comm:</strong> tcp://10.102.201.202:45748\n",
       "                    </td>\n",
       "                    <td style=\"text-align: left;\">\n",
       "                        <strong>Workers:</strong> 0\n",
       "                    </td>\n",
       "                </tr>\n",
       "                <tr>\n",
       "                    <td style=\"text-align: left;\">\n",
       "                        <strong>Dashboard:</strong> <a href=\"/proxy/8787/status\">/proxy/8787/status</a>\n",
       "                    </td>\n",
       "                    <td style=\"text-align: left;\">\n",
       "                        <strong>Total threads:</strong> 0\n",
       "                    </td>\n",
       "                </tr>\n",
       "                <tr>\n",
       "                    <td style=\"text-align: left;\">\n",
       "                        <strong>Started:</strong> Just now\n",
       "                    </td>\n",
       "                    <td style=\"text-align: left;\">\n",
       "                        <strong>Total memory:</strong> 0 B\n",
       "                    </td>\n",
       "                </tr>\n",
       "            </table>\n",
       "        </div>\n",
       "    </div>\n",
       "\n",
       "    <details style=\"margin-left: 48px;\">\n",
       "        <summary style=\"margin-bottom: 20px;\">\n",
       "            <h3 style=\"display: inline;\">Workers</h3>\n",
       "        </summary>\n",
       "\n",
       "        \n",
       "\n",
       "    </details>\n",
       "</div>\n",
       "\n",
       "        </details>\n",
       "    </div>\n",
       "</div>\n",
       "            </details>\n",
       "        \n",
       "\n",
       "    </div>\n",
       "</div>"
      ],
      "text/plain": [
       "<Client: 'tcp://10.102.201.202:45748' processes=0 threads=0, memory=0 B>"
      ]
     },
     "execution_count": 6,
     "metadata": {},
     "output_type": "execute_result"
    }
   ],
   "source": [
    "client"
   ]
  },
  {
   "cell_type": "markdown",
   "id": "74ae1644-feca-43d7-9962-8879dd5c864a",
   "metadata": {
    "tags": []
   },
   "source": [
    "## Function definitions"
   ]
  },
  {
   "cell_type": "code",
   "execution_count": 7,
   "id": "a4a55928-3133-4486-b24a-d32f7c21ceff",
   "metadata": {},
   "outputs": [],
   "source": [
    "# Get unique fips codes\n",
    "def get_unique_fips():\n",
    "    yield_path = '../data/historical/yields/'\n",
    "\n",
    "    ufips = np.array([])\n",
    "    for crop in ['maize', 'cotton', 'soy', 'rice', 'sorghum', 'barley', 'spring_wheat', 'winter_wheat']:\n",
    "        tmp = pd.read_csv(yield_path + crop + '_all.csv')\n",
    "        tmp['fips'] = tmp['fips'].astype(str).str.zfill(5)\n",
    "        ufips = np.append(ufips, tmp['fips'].unique())\n",
    "    \n",
    "    ufips = np.unique(ufips)\n",
    "    \n",
    "    return ufips"
   ]
  },
  {
   "cell_type": "code",
   "execution_count": 8,
   "id": "db6a21eb-c8dd-4a3e-bff4-a6b0fbf08024",
   "metadata": {},
   "outputs": [],
   "source": [
    "# Degree day function\n",
    "def above_threshold_each(mins, maxs, threshold):\n",
    "    \"\"\"Use a sinusoidal approximation to estimate the number of Growing\n",
    "    Degree-Days above a given threshold, using daily minimum and maximum\n",
    "    temperatures.\n",
    "    mins and maxs are numpy arrays; threshold is in the same units.\"\"\"\n",
    "\n",
    "    \"\"\"\n",
    "    Code from James Rising (https://github.com/jrising/research-common/blob/master/python/gdd.py)\n",
    "    \"\"\"\n",
    "\n",
    "    # Determine crossing points, as a fraction of the day\n",
    "    plus_over_2 = (mins + maxs)/2\n",
    "    minus_over_2 = (maxs - mins)/2\n",
    "    two_pi = 2*np.pi\n",
    "    # d0s is the times of crossing above; d1s is when cross below\n",
    "    d0s = np.arcsin((threshold - plus_over_2) / minus_over_2) / two_pi\n",
    "    d1s = .5 - d0s\n",
    "\n",
    "    # If always above or below threshold, set crossings accordingly\n",
    "    aboves = mins >= threshold\n",
    "    belows = maxs <= threshold\n",
    "\n",
    "    d0s[aboves] = 0\n",
    "    d1s[aboves] = 1\n",
    "    d0s[belows] = 0\n",
    "    d1s[belows] = 0\n",
    "\n",
    "    # Calculate integral\n",
    "    F1s = -minus_over_2 * np.cos(2*np.pi*d1s) / two_pi + plus_over_2 * d1s\n",
    "    F0s = -minus_over_2 * np.cos(2*np.pi*d0s) / two_pi + plus_over_2 * d0s\n",
    "    return F1s - F0s - threshold * (d1s - d0s)\n",
    "\n",
    "# ufunc for dask\n",
    "def edd_ufunc_annual(tasmin, tasmax, threshold):\n",
    "    return xr.apply_ufunc(above_threshold_each,\n",
    "                          tasmin, tasmax, threshold,\n",
    "                          dask = 'allowed')"
   ]
  },
  {
   "cell_type": "code",
   "execution_count": 9,
   "id": "9a55ce9c-a60e-4081-bc90-c041cbc12033",
   "metadata": {},
   "outputs": [],
   "source": [
    "# Get soil moisture quantiles over entire historical time period (1950-2013)\n",
    "def get_SM_quantiles(dsSM, model, quantiles, season):\n",
    "    for q in quantiles:\n",
    "        tmp = dsSM.chunk(dict(time=-1, lat=20, lon=20)).quantile(q=float(q)/100., dim='time')['soilMoist1'].compute()\n",
    "        tmp.to_netcdf('/gpfs/group/kaf26/default/dcl5300/LOCA_VIC_soilMoisture/' + model + \n",
    "                      '/quantiles/' + model + '_VIC_sm_q' + q + '_' + season + '.nc')"
   ]
  },
  {
   "cell_type": "code",
   "execution_count": 10,
   "id": "984862c1-9c89-4c4b-9907-2e50110d0caa",
   "metadata": {},
   "outputs": [],
   "source": [
    "# Calculate predictors: EDD conditioned on SM quantile\n",
    "def get_predictors_EDD_SM_Q(dsT, dsSM, model, T_thresh, crop, season):\n",
    "    # DataArray\n",
    "    dsSM = dsSM['soilMoist1']\n",
    "    \n",
    "    # Read soil moisture quantiles\n",
    "    path = '/gpfs/group/kaf26/default/dcl5300/LOCA_VIC_soilMoisture/' + model + '/quantiles/' + model\n",
    "    sm10 = xr.open_dataset(path + '_VIC_sm_q10'  '_' + season + '.nc')['soilMoist1']\n",
    "    sm30 = xr.open_dataset(path + '_VIC_sm_q30'  '_' + season + '.nc')['soilMoist1']\n",
    "    sm70 = xr.open_dataset(path + '_VIC_sm_q70'  '_' + season + '.nc')['soilMoist1']\n",
    "    sm90 = xr.open_dataset(path + '_VIC_sm_q90'  '_' + season + '.nc')['soilMoist1']\n",
    "    \n",
    "    # Calculate daily EDD\n",
    "    EDD = edd_ufunc_annual(dsT['Tmin'], dsT['Tmax'], threshold = T_thresh[1])\n",
    "    \n",
    "    # Calculate daily GDD\n",
    "    GDD = edd_ufunc_annual(dsT['Tmin'], dsT['Tmax'], threshold = T_thresh[0])\n",
    "    GDD = GDD - EDD\n",
    "    \n",
    "    # Combine\n",
    "    DD_SM = xr.combine_by_coords([EDD.to_dataset(name='EDD'),\n",
    "                              GDD.to_dataset(name='GDD'),\n",
    "                              dsT['Prec'].to_dataset(name = 'prcp')])\n",
    "    \n",
    "    # Annual degree days without SM\n",
    "    DD_SM = DD_SM.resample(time='Y').sum().compute()\n",
    "    \n",
    "    # EDD/SM variables\n",
    "    DD_SM['EDD_SM_q0_10'] = EDD.where(dsSM <= sm10).resample(time='Y').sum().compute()\n",
    "    DD_SM['EDD_SM_q10_30'] = EDD.where((dsSM > sm10) & (dsSM <= sm30)).resample(time='Y').sum().compute()\n",
    "    DD_SM['EDD_SM_q30_70'] = EDD.where((dsSM > sm30) & (dsSM < sm70)).resample(time='Y').sum().compute()\n",
    "    DD_SM['EDD_SM_q70_90'] = EDD.where((dsSM >= sm70) & (dsSM < sm90)).resample(time='Y').sum().compute()\n",
    "    DD_SM['EDD_SM_q90_100'] = EDD.where(dsSM >= sm90).resample(time='Y').sum().compute()\n",
    "    \n",
    "    # Standard SM metrics\n",
    "    DD_SM['SM_mean'] = dsSM.resample(time='Y').mean().compute()\n",
    "    # SM weekly max/min\n",
    "    DD_SM['SM_week_max'] = dsSM.resample(time='W').mean().resample(time='Y').max().compute()\n",
    "    DD_SM['SM_week_min'] = dsSM.resample(time='W').mean().resample(time='Y').min().compute()\n",
    "    \n",
    "    # Get squares\n",
    "    DD_SM['SM_mean2'] = DD_SM['SM_mean']**2\n",
    "    DD_SM['prcp2'] = DD_SM['prcp']**2\n",
    "    \n",
    "    # Tidy\n",
    "    DD_SM = DD_SM.drop('quantile')\n",
    "    DD_SM.attrs['NOTE1'] = 'Degree Days calculated as in DOI: 10.1111/agec.12315 supplementary material with threshold 29C. Author: David Lafferty - University of Illinois (davidcl2@illinois.edu). Date: Aug 2021'\n",
    "    DD_SM.attrs['NOTE2'] = 'For original netcdf files see: http://loca.ucsd.edu/'\n",
    "    DD_SM['SM_mean'].attrs['units'] = 'mm'\n",
    "    DD_SM['SM_week_max'].attrs['units'] = 'mm'\n",
    "    DD_SM['SM_week_min'].attrs['units'] = 'mm'\n",
    "    DD_SM['prcp'].attrs['units'] = 'mm'\n",
    "    \n",
    "    # Save \n",
    "    DD_SM.to_netcdf('/gpfs/group/kaf26/default/dcl5300/LOCA_VIC_soilMoisture/' + model + \n",
    "                    '/out/' + model + '_VIC_' + crop + '_quantile_predictors.nc')"
   ]
  },
  {
   "cell_type": "code",
   "execution_count": 11,
   "id": "4c09e949-9881-42c1-af92-5965ad6052f2",
   "metadata": {},
   "outputs": [],
   "source": [
    "# Calculate predictors: EDD conditioned on SM difference from mean (Haqiqi 21)\n",
    "def get_predictors_EDD_SM_H21(dsT, dsSM, model, T_thresh, crop):\n",
    "    # DataArray\n",
    "    dsSM = dsSM['soilMoist1']\n",
    "    \n",
    "    # Soil moisture difference\n",
    "    sm_mean = dsSM.chunk(dict(time=-1, lat=20, lon=20)).mean(dim='time').compute()\n",
    "    sm_diff = (dsSM - sm_mean)\n",
    "    \n",
    "    # Calculate daily EDD\n",
    "    EDD = edd_ufunc_annual(dsT['Tmin'], dsT['Tmax'], threshold = T_thresh[1])\n",
    "    \n",
    "    # Calculate daily GDD\n",
    "    GDD = edd_ufunc_annual(dsT['Tmin'], dsT['Tmax'], threshold = T_thresh[0])\n",
    "    GDD = GDD - EDD\n",
    "    \n",
    "    # Combine\n",
    "    DD_SM = xr.combine_by_coords([EDD.to_dataset(name='EDD'),\n",
    "                              GDD.to_dataset(name='GDD'),\n",
    "                              dsT['Prec'].to_dataset(name = 'prcp')])\n",
    "    \n",
    "    # Annual degree days without SM\n",
    "    DD_SM = DD_SM.resample(time='Y').sum().compute()\n",
    "    \n",
    "    # EDD/SM variables\n",
    "    DD_SM['EDD_SM_75_below'] = EDD.where(sm_diff < -7.5).resample(time='Y').sum().compute()\n",
    "    DD_SM['EDD_SM_25_75_below'] = EDD.where((sm_diff > -7.5) & (sm_diff <= -2.5)).resample(time='Y').sum().compute()\n",
    "    DD_SM['EDD_SM_0_25_norm'] = EDD.where((sm_diff > -2.5) & (sm_diff < 2.5)).resample(time='Y').sum().compute()\n",
    "    DD_SM['EDD_SM_25_75_above'] = EDD.where((sm_diff >= 2.5) & (sm_diff < 7.5)).resample(time='Y').sum().compute()\n",
    "    DD_SM['EDD_SM_75_above'] = EDD.where(sm_diff >= 7.5).resample(time='Y').sum().compute()\n",
    "    \n",
    "    # Standard SM metrics\n",
    "    DD_SM['SM_mean'] = dsSM.resample(time='Y').mean().compute()\n",
    "    # SM weekly max/min\n",
    "    DD_SM['SM_week_max'] = dsSM.resample(time='W').mean().resample(time='Y').max().compute()\n",
    "    DD_SM['SM_week_min'] = dsSM.resample(time='W').mean().resample(time='Y').min().compute()\n",
    "    \n",
    "    # Get squares\n",
    "    DD_SM['SM_mean2'] = DD_SM['SM_mean']**2\n",
    "    DD_SM['prcp2'] = DD_SM['prcp']**2\n",
    "    \n",
    "    # Tidy\n",
    "    DD_SM.attrs['NOTE1'] = 'Degree Days calculated as in DOI: 10.1111/agec.12315 supplementary material with threshold 29C. Author: David Lafferty - University of Illinois (davidcl2@illinois.edu). Date: Aug 2021'\n",
    "    DD_SM.attrs['NOTE2'] = 'For original netcdf files see: http://loca.ucsd.edu/'\n",
    "    DD_SM['SM_mean'].attrs['units'] = 'mm'\n",
    "    DD_SM['SM_week_max'].attrs['units'] = 'mm'\n",
    "    DD_SM['SM_week_min'].attrs['units'] = 'mm'\n",
    "    DD_SM['prcp'].attrs['units'] = 'mm'\n",
    "    \n",
    "    # Save \n",
    "    DD_SM.to_netcdf('/gpfs/group/kaf26/default/dcl5300/LOCA_VIC_soilMoisture/' + model + \n",
    "                    '/out/' + model + '_VIC_' + crop + '_H21_predictors.nc')"
   ]
  },
  {
   "cell_type": "code",
   "execution_count": 12,
   "id": "7252e814-7ba2-4b88-9e29-20f133ed2dbe",
   "metadata": {},
   "outputs": [],
   "source": [
    "# Calculate predictors: EDD and SM monthly values\n",
    "def get_predictors_EDD_SM_intra(dsT, dsSM, model, T_thresh, crop):\n",
    "    # DataArray\n",
    "    dsSM = dsSM['soilMoist1']\n",
    "    \n",
    "    # Calculate daily EDD\n",
    "    EDD = edd_ufunc_annual(dsT['Tmin'], dsT['Tmax'], threshold = T_thresh[1])\n",
    "    \n",
    "    # Calculate daily GDD\n",
    "    GDD = edd_ufunc_annual(dsT['Tmin'], dsT['Tmax'], threshold = T_thresh[0])\n",
    "    GDD = GDD - EDD\n",
    "    \n",
    "    # Combine\n",
    "    DD_SM = xr.combine_by_coords([EDD.to_dataset(name='EDD'),\n",
    "                              GDD.to_dataset(name='GDD'),\n",
    "                              dsT['Prec'].to_dataset(name = 'prcp')])\n",
    "    \n",
    "    # Monthly degree days\n",
    "    DD_SM = DD_SM.resample(time='M').sum().compute()\n",
    "    \n",
    "    # Monthly SM\n",
    "    DD_SM['SM_mean'] = dsSM.resample(time='M').mean().compute()\n",
    "    \n",
    "    # Weekly SM\n",
    "    DD_SM['SM_week_max'] = dsSM.resample(time='W').mean().resample(time='M').max().compute()\n",
    "    DD_SM['SM_week_min'] = dsSM.resample(time='W').mean().resample(time='M').min().compute()\n",
    "    \n",
    "    # Get squares\n",
    "    DD_SM['SM_mean2'] = DD_SM['SM_mean']**2\n",
    "    DD_SM['prcp2'] = DD_SM['prcp']**2\n",
    "    \n",
    "    # Tidy\n",
    "    DD_SM.attrs['NOTE1'] = 'Degree Days calculated as in DOI: 10.1111/agec.12315 supplementary material with threshold 29C. Author: David Lafferty - University of Illinois (davidcl2@illinois.edu). Date: Aug 2021'\n",
    "    DD_SM.attrs['NOTE2'] = 'For original netcdf files see: http://loca.ucsd.edu/'\n",
    "    DD_SM['SM_mean'].attrs['units'] = 'mm'\n",
    "    DD_SM['SM_week_max'].attrs['units'] = 'mm'\n",
    "    DD_SM['SM_week_min'].attrs['units'] = 'mm'\n",
    "    DD_SM['prcp'].attrs['units'] = 'mm'\n",
    "    \n",
    "    # Save \n",
    "    DD_SM.to_netcdf('/gpfs/group/kaf26/default/dcl5300/LOCA_VIC_soilMoisture/' + model + \n",
    "                    '/out/' + model + '_VIC_' + crop + '_intra_predictors.nc')"
   ]
  },
  {
   "cell_type": "code",
   "execution_count": 13,
   "id": "b06a091b-b0a3-4d6b-a620-85f0b942acb4",
   "metadata": {},
   "outputs": [],
   "source": [
    "# Aggregation function for dask delayed\n",
    "def func_agg(fips, model, predictors, crop):\n",
    "    weights_path = '/gpfs/group/kaf26/default/dcl5300/cropland_data_layer/county_weights/'\n",
    "    \n",
    "    try:\n",
    "        # Shapefile and county bounds\n",
    "        gdf = gp.read_file('/storage/work/dcl5300/bcsd_maize_scripts/tools/plotting_tools/counties_contig_plot.shp')\n",
    "        gdf = gdf.to_crs('WGS 84')\n",
    "        gdf_fips = gdf.query('fips == \"' + fips + '\"')\n",
    "        xmin, ymin, xmax, ymax = gdf_fips.geometry.total_bounds\n",
    "        \n",
    "        # Predictor vars\n",
    "        path = '/gpfs/group/kaf26/default/dcl5300/LOCA_VIC_soilMoisture/'\n",
    "        ds = xr.open_dataset(path + model + '/out/' + model + '_VIC_' + crop + '_' + predictors + '.nc')\n",
    "        ds = ds.where((ds.lat >= ymin) & (ds.lat <= ymax) & (ds.lon >= xmin) & (ds.lon <= xmax), drop=True)\n",
    "        \n",
    "        # Read in weights\n",
    "        ds_weights = xr.open_dataset(weights_path + fips + '_08-20.nc')\n",
    "        ds_weights = ds_weights.coarsen(x=10, y=10, boundary='pad').mean()\n",
    "\n",
    "        # Aggregate\n",
    "        weightmap = xa.pixel_overlaps(ds, gdf_fips, weights = ds_weights.cropland_avg)\n",
    "        aggregated = xa.aggregate(ds, weightmap).to_dataset().to_dataframe().reset_index().drop(columns = ['pix_idx'])\n",
    "        \n",
    "        # For a few counties the weighting results in all values being zero\n",
    "        if len(aggregated.query('GDD == 0.0')) > 0.0:\n",
    "            weightmap = xa.pixel_overlaps(ds, gdf_fips)\n",
    "            aggregated = xa.aggregate(ds, weightmap).to_dataset().to_dataframe().reset_index().drop(columns = ['pix_idx'])    \n",
    "        \n",
    "        # Otherwise workers will store for each county \n",
    "        del ds\n",
    "        del ds_weights\n",
    "        del gdf\n",
    "        del gdf_fips\n",
    "        del weightmap\n",
    "        \n",
    "        return aggregated\n",
    "    \n",
    "    except Exception as e:\n",
    "        print(\"{} / {} Failed : {}\".format(model, fips, str(e)))"
   ]
  },
  {
   "cell_type": "code",
   "execution_count": 14,
   "id": "3a1175e3-b7eb-4060-8822-7264e198793e",
   "metadata": {},
   "outputs": [],
   "source": [
    "# Subset US\n",
    "def subset_us(df):\n",
    "    return df.where((df.latitude < 50.) & \n",
    "                    (df.latitude > 24.) & \n",
    "                    (df.longitude < -65.) & \n",
    "                    (df.longitude > -124.), drop=True)\n",
    "\n",
    "# Irrigation function\n",
    "def calculate_irr_fraction(rfd, irr):\n",
    "    ## Returns fraction of area that is irrigated\n",
    "    \n",
    "    # Get locations with 0./0.\n",
    "    nans = np.logical_and(rfd['cropland_area'].max(dim='z') == 0., irr['cropland_area'].max(dim='z') == 0.)\n",
    "    \n",
    "    # Calculate all locations\n",
    "    frac = irr['cropland_area'].max(dim='z') / (rfd['cropland_area'].max(dim='z') + irr['cropland_area'].max(dim='z'))\n",
    "    \n",
    "    frac = xr.where(nans, np.nan, frac) # Replace nans\n",
    "    frac = frac.where(frac <= 1., np.nan) # Replace fill value with nan\n",
    "    \n",
    "    return frac"
   ]
  },
  {
   "cell_type": "markdown",
   "id": "1cd09e9e",
   "metadata": {
    "tags": []
   },
   "source": [
    "## Maize"
   ]
  },
  {
   "cell_type": "code",
   "execution_count": 13,
   "id": "be65ccea",
   "metadata": {},
   "outputs": [],
   "source": [
    "# Livneh soil moisture obs\n",
    "dsSM = xr.open_mfdataset('/gpfs/group/kaf26/default/dcl5300/LOCA_VIC_soilMoisture/Livneh/raw/soilMoist*', chunks='auto', parallel=True)\n",
    "\n",
    "# Livneh temperature obs\n",
    "dsT = xr.open_mfdataset('/gpfs/group/kzk10/default/public/LOCA/training/livneh_NAmerExt_15Oct2014*', chunks='auto', parallel=True)"
   ]
  },
  {
   "cell_type": "code",
   "execution_count": 14,
   "id": "f51987e3",
   "metadata": {},
   "outputs": [],
   "source": [
    "# Need same grid and coords\n",
    "dsSM = dsSM.rename({'Time':'time', 'Lat':'lat', 'Lon':'lon'})\n",
    "dsT = dsT.where(dsT.lat >= dsSM.lat.min(), drop=True)\n",
    "\n",
    "# Corn growing season (following Ortiz-Bobea ERL)\n",
    "dsSM = dsSM.sel(time=dsSM.time.dt.month.isin([4, 5, 6, 7, 8, 9]))\n",
    "dsT = dsT.sel(time=dsT.time.dt.month.isin([4, 5, 6, 7, 8, 9]))"
   ]
  },
  {
   "cell_type": "code",
   "execution_count": 31,
   "id": "81fab689-5a22-4e07-9a26-2b36061ce934",
   "metadata": {},
   "outputs": [],
   "source": [
    "# %%time\n",
    "# # Get soil moisture quantiles over entire historical time period (1950-2013)\n",
    "# # get_SM_quantiles(dsSM, 'Livneh', ['10', '30', '70', '90'], '4-9')\n",
    "\n",
    "# # Calculate predictors (EDD conditioned on quantiles)\n",
    "# get_predictors_EDD_SM_Q(dsT, dsSM, 'Livneh', [10.0, 29.0], 'maize', '4-9') # bounds from Schenker-Roberts 2009 (I checked lower bound on Powerpoint)"
   ]
  },
  {
   "cell_type": "code",
   "execution_count": 15,
   "id": "14011acf-cf1a-4bac-a63a-9f828590a9b8",
   "metadata": {},
   "outputs": [
    {
     "name": "stdout",
     "output_type": "stream",
     "text": [
      "CPU times: user 5min 7s, sys: 11.6 s, total: 5min 18s\n",
      "Wall time: 13min\n"
     ]
    }
   ],
   "source": [
    "%%time\n",
    "# Calculate predictors (following Haqiqi et al 2021)\n",
    "get_predictors_EDD_SM_H21(dsT, dsSM, 'Livneh', [10.0, 29.0], 'maize')"
   ]
  },
  {
   "cell_type": "code",
   "execution_count": 18,
   "id": "1320d70e-38e5-4951-bfa7-d4e2646d947e",
   "metadata": {},
   "outputs": [
    {
     "name": "stdout",
     "output_type": "stream",
     "text": [
      "CPU times: user 2min 55s, sys: 18.3 s, total: 3min 14s\n",
      "Wall time: 5min 17s\n"
     ]
    }
   ],
   "source": [
    "%%time\n",
    "# Calculate predictors (intra-seasonal monthly)\n",
    "get_predictors_EDD_SM_intra(dsT, dsSM, 'Livneh', [10.0, 29.0], 'maize')"
   ]
  },
  {
   "cell_type": "code",
   "execution_count": 36,
   "id": "54d25379",
   "metadata": {},
   "outputs": [
    {
     "data": {
      "text/plain": [
       "<matplotlib.collections.QuadMesh at 0x2b325af5e6d0>"
      ]
     },
     "execution_count": 36,
     "metadata": {},
     "output_type": "execute_result"
    },
    {
     "data": {
      "image/png": "[encoded data removed]",
      "text/plain": [
       "<Figure size 432x288 with 2 Axes>"
      ]
     },
     "metadata": {
      "needs_background": "light"
     },
     "output_type": "display_data"
    }
   ],
   "source": [
    "# Check\n",
    "it = 19\n",
    "DD_SM = xr.open_dataset('/gpfs/group/kaf26/default/dcl5300/LOCA_VIC_soilMoisture/Livneh/out/Livneh_VIC_maize_quantile_predictors.nc')\n",
    "check = DD_SM.isel(time=it)['EDD_SM_q0_10'] + DD_SM.isel(time=it)['EDD_SM_q10_30'] + DD_SM.isel(time=it)['EDD_SM_q30_70'] + DD_SM.isel(time=it)['EDD_SM_q70_90'] + DD_SM.isel(time=it)['EDD_SM_q90_100']\n",
    "(DD_SM.isel(time=it)['EDD'] / check).plot()"
   ]
  },
  {
   "cell_type": "markdown",
   "id": "84306b1d",
   "metadata": {
    "tags": []
   },
   "source": [
    "### Aggregate to county level"
   ]
  },
  {
   "cell_type": "code",
   "execution_count": 21,
   "id": "fc880a21-a29c-42ce-a60d-6e319afc3d24",
   "metadata": {},
   "outputs": [],
   "source": [
    "# Get unique fips codes\n",
    "ufips = get_unique_fips()"
   ]
  },
  {
   "cell_type": "code",
   "execution_count": 22,
   "id": "5aabcd57-9e02-4180-bba8-b99442fc56ee",
   "metadata": {},
   "outputs": [
    {
     "name": "stdout",
     "output_type": "stream",
     "text": [
      "CPU times: user 1min 38s, sys: 3.57 s, total: 1min 41s\n",
      "Wall time: 10min 46s\n"
     ]
    }
   ],
   "source": [
    "%%time\n",
    "# Parallelize\n",
    "delayed_res = []\n",
    "for fips in ufips:\n",
    "    tmp_agg = dask.delayed(func_agg)(fips, 'Livneh', 'quantile_predictors', 'maize')\n",
    "    delayed_res.append(tmp_agg)\n",
    "    \n",
    "# Run\n",
    "res = dask.compute(*delayed_res)\n",
    "\n",
    "# To dataframe\n",
    "df_res = pd.concat(res)\n",
    "df_res['year'] = df_res['time'].dt.year\n",
    "df_res.drop(columns = 'time', inplace=True)\n",
    "\n",
    "df_res.to_csv('../data/historical/predictors/Livneh/Livneh_maize_quantile_predictors.csv', index=False)"
   ]
  },
  {
   "cell_type": "code",
   "execution_count": 32,
   "id": "8f4241dd-2c21-4b8e-bc5f-f3476ad2c978",
   "metadata": {},
   "outputs": [
    {
     "name": "stdout",
     "output_type": "stream",
     "text": [
      "CPU times: user 1min 14s, sys: 2.59 s, total: 1min 16s\n",
      "Wall time: 6min 39s\n"
     ]
    }
   ],
   "source": [
    "%%time\n",
    "# Parallelize\n",
    "delayed_res = []\n",
    "for fips in ufips:\n",
    "    tmp_agg = dask.delayed(func_agg)(fips, 'Livneh', 'H21_predictors', 'maize')\n",
    "    delayed_res.append(tmp_agg)\n",
    "    \n",
    "# Run\n",
    "res = dask.compute(*delayed_res)\n",
    "\n",
    "# To dataframe\n",
    "df_res = pd.concat(res)\n",
    "df_res['year'] = df_res['time'].dt.year\n",
    "df_res.drop(columns = 'time', inplace=True)\n",
    "\n",
    "df_res.to_csv('../data/historical/predictors/Livneh/Livneh_maize_H21_predictors.csv', index=False)"
   ]
  },
  {
   "cell_type": "code",
   "execution_count": 37,
   "id": "0bc0680e-cd69-4413-8241-16ba127113bb",
   "metadata": {},
   "outputs": [
    {
     "name": "stdout",
     "output_type": "stream",
     "text": [
      "CPU times: user 2min 25s, sys: 5.36 s, total: 2min 30s\n",
      "Wall time: 15min 23s\n"
     ]
    }
   ],
   "source": [
    "%%time\n",
    "# Parallelize\n",
    "delayed_res = []\n",
    "for fips in ufips:\n",
    "    tmp_agg = dask.delayed(func_agg)(fips, 'Livneh', 'intra_predictors', 'maize')\n",
    "    delayed_res.append(tmp_agg)\n",
    "    \n",
    "# Run\n",
    "res = dask.compute(*delayed_res)"
   ]
  },
  {
   "cell_type": "code",
   "execution_count": 49,
   "id": "4dc09f00-77ab-4ad4-8d32-540853e1990e",
   "metadata": {},
   "outputs": [],
   "source": [
    "# Monthly predictors need some organization:\n",
    "# To dataframe\n",
    "df_res = pd.concat(res)\n",
    "df_res['year'] = df_res['time'].dt.year\n",
    "df_res['month'] = df_res['time'].dt.month\n",
    "df_res.drop(columns = 'time', inplace=True)\n",
    "\n",
    "# Subset growing season\n",
    "months = [4,5,6,7,8,9]\n",
    "df_res_season = df_res[df_res.month.isin(months)]\n",
    "\n",
    "# Predictors\n",
    "predictor_vars = df_res_season.columns[1:-2]\n",
    "\n",
    "# Final product\n",
    "df_final = df_res_season[['fips' ,'year']].copy()\n",
    "\n",
    "# Loop through each month, predictor\n",
    "for month in months:\n",
    "    # Temporary df with single month\n",
    "    temp = df_res_season.query('month == ' + str(month)).copy()\n",
    "    \n",
    "    # Rename each predictor to include monthly suffix\n",
    "    for var in predictor_vars:\n",
    "        temp.rename(columns = {var : var + '_' + str(month)}, inplace=True)\n",
    "        \n",
    "    # Merge\n",
    "    df_final = pd.merge(df_final, temp.drop(columns = 'month'), how='inner', on = ['fips', 'year'])\n",
    "    \n",
    "# There are many duplicate rows, not sure why\n",
    "df_final.drop_duplicates(inplace=True)\n",
    "# Save\n",
    "df_final.to_csv('../data/historical/predictors/Livneh/Livneh_maize_intra_predictors.csv', index=False)"
   ]
  },
  {
   "cell_type": "markdown",
   "id": "74bc2a61-079c-4d00-b316-7c003c39711d",
   "metadata": {
    "jp-MarkdownHeadingCollapsed": true,
    "tags": []
   },
   "source": [
    "## Soy"
   ]
  },
  {
   "cell_type": "code",
   "execution_count": 15,
   "id": "8ef25192-a506-4c3a-91dc-74bd489f1cf4",
   "metadata": {},
   "outputs": [],
   "source": [
    "# Livneh soil moisture obs\n",
    "dsSM = xr.open_mfdataset('/gpfs/group/kaf26/default/dcl5300/LOCA_VIC_soilMoisture/Livneh/raw/soilMoist*', chunks='auto', parallel=True)\n",
    "\n",
    "# Livneh temperature obs\n",
    "dsT = xr.open_mfdataset('/gpfs/group/kzk10/default/public/LOCA/training/livneh_NAmerExt_15Oct2014*', chunks='auto', parallel=True)"
   ]
  },
  {
   "cell_type": "code",
   "execution_count": 16,
   "id": "6aae5e3c-53f1-4def-bfd5-41237fc0931a",
   "metadata": {},
   "outputs": [],
   "source": [
    "# Need same grid and coords\n",
    "dsSM = dsSM.rename({'Time':'time', 'Lat':'lat', 'Lon':'lon'})\n",
    "dsT = dsT.where(dsT.lat >= dsSM.lat.min(), drop=True)\n",
    "\n",
    "# Soy growing season (following Ortiz-Bobea ERL)\n",
    "dsSM = dsSM.sel(time=dsSM.time.dt.month.isin([4, 5, 6, 7, 8, 9]))\n",
    "dsT = dsT.sel(time=dsT.time.dt.month.isin([4, 5, 6, 7, 8, 9]))"
   ]
  },
  {
   "cell_type": "code",
   "execution_count": 17,
   "id": "9d2c821f-7108-4542-944e-ac2d3edd4952",
   "metadata": {},
   "outputs": [
    {
     "name": "stdout",
     "output_type": "stream",
     "text": [
      "CPU times: user 3 µs, sys: 0 ns, total: 3 µs\n",
      "Wall time: 6.44 µs\n"
     ]
    }
   ],
   "source": [
    "%%time\n",
    "# # Calculate predictors (EDD conditioned on quantiles)\n",
    "# get_predictors_EDD_SM_Q(dsT, dsSM, 'Livneh', [10.0, 30.0], 'soy', '4-9') # bounds from Schlenker & Roberts 2009 (I checked lower bound on Powerpoint)"
   ]
  },
  {
   "cell_type": "code",
   "execution_count": 18,
   "id": "1d3ffd1b-7e4b-4647-b0c4-be5a9340c911",
   "metadata": {},
   "outputs": [
    {
     "name": "stdout",
     "output_type": "stream",
     "text": [
      "CPU times: user 7min 22s, sys: 18.5 s, total: 7min 40s\n",
      "Wall time: 25min 47s\n"
     ]
    }
   ],
   "source": [
    "%%time\n",
    "# Calculate predictors following Haqiqi et al 2021: EDD conditioned on differences from mean\n",
    "get_predictors_EDD_SM_H21(dsT, dsSM, 'Livneh', [10.0, 30.0], 'soy')"
   ]
  },
  {
   "cell_type": "code",
   "execution_count": 19,
   "id": "8bdbfd8e-b7d8-4efd-861a-49d9b5551b2c",
   "metadata": {},
   "outputs": [
    {
     "name": "stdout",
     "output_type": "stream",
     "text": [
      "CPU times: user 2min 47s, sys: 19.3 s, total: 3min 6s\n",
      "Wall time: 5min 7s\n"
     ]
    }
   ],
   "source": [
    "%%time\n",
    "# Calculate predictors: monthly\n",
    "get_predictors_EDD_SM_intra(dsT, dsSM, 'Livneh', [10.0, 30.0], 'soy')"
   ]
  },
  {
   "cell_type": "markdown",
   "id": "af923ee5-6ea0-4edc-85ea-6b3aa7d1f15c",
   "metadata": {
    "tags": []
   },
   "source": [
    "### Aggregate to county level"
   ]
  },
  {
   "cell_type": "code",
   "execution_count": 20,
   "id": "7d539d01-3be9-493b-b706-30bc8dacd666",
   "metadata": {},
   "outputs": [],
   "source": [
    "# Get unique fips codes\n",
    "ufips = get_unique_fips()"
   ]
  },
  {
   "cell_type": "code",
   "execution_count": 21,
   "id": "62c6f686-473b-4b81-b235-f9c84f59cf3d",
   "metadata": {},
   "outputs": [
    {
     "name": "stdout",
     "output_type": "stream",
     "text": [
      "CPU times: user 1min 12s, sys: 2.46 s, total: 1min 14s\n",
      "Wall time: 6min 26s\n"
     ]
    }
   ],
   "source": [
    "%%time\n",
    "# Parallelize\n",
    "delayed_res = []\n",
    "for fips in ufips:\n",
    "    tmp_agg = dask.delayed(func_agg)(fips, 'Livneh', 'H21_predictors', 'soy')\n",
    "    delayed_res.append(tmp_agg)\n",
    "    \n",
    "# Run\n",
    "res = dask.compute(*delayed_res)\n",
    "\n",
    "# To dataframe\n",
    "df_res = pd.concat(res)\n",
    "df_res['year'] = df_res['time'].dt.year\n",
    "df_res.drop(columns = 'time', inplace=True)\n",
    "\n",
    "df_res.to_csv('../data/historical/predictors/Livneh/Livneh_soy_H21_predictors.csv', index=False)"
   ]
  },
  {
   "cell_type": "code",
   "execution_count": 1,
   "id": "554c1b85-82ba-493d-a2d2-45c7110dda45",
   "metadata": {},
   "outputs": [],
   "source": [
    "# %%time\n",
    "# # Parallelize\n",
    "# delayed_res = []\n",
    "# for fips in ufips:\n",
    "#     tmp_agg = dask.delayed(func_agg)(fips, 'Livneh', 'quantile_predictors', 'soy')\n",
    "#     delayed_res.append(tmp_agg)\n",
    "    \n",
    "# # Run\n",
    "# res = dask.compute(*delayed_res)\n",
    "\n",
    "# # To dataframe\n",
    "# df_res = pd.concat(res)\n",
    "# df_res['year'] = df_res['time'].dt.year\n",
    "# df_res.drop(columns = 'time', inplace=True)\n",
    "\n",
    "# df_res.to_csv('../data/historical/predictors/Livneh/Livneh_soy_quantile_predictors.csv', index=False)"
   ]
  },
  {
   "cell_type": "code",
   "execution_count": 22,
   "id": "43283d02-e098-414c-9ab4-c7c8fdbf9357",
   "metadata": {},
   "outputs": [
    {
     "name": "stdout",
     "output_type": "stream",
     "text": [
      "CPU times: user 2min 49s, sys: 7.15 s, total: 2min 56s\n",
      "Wall time: 16min 4s\n"
     ]
    }
   ],
   "source": [
    "%%time\n",
    "# Parallelize\n",
    "delayed_res = []\n",
    "for fips in ufips:\n",
    "    tmp_agg = dask.delayed(func_agg)(fips, 'Livneh', 'intra_predictors' ,'soy')\n",
    "    delayed_res.append(tmp_agg)\n",
    "    \n",
    "# Run\n",
    "res = dask.compute(*delayed_res)\n",
    "\n",
    "# Monthly predictors need some organization:\n",
    "\n",
    "# To dataframe\n",
    "df_res = pd.concat(res)\n",
    "df_res['year'] = df_res['time'].dt.year\n",
    "df_res['month'] = df_res['time'].dt.month\n",
    "df_res.drop(columns = 'time', inplace=True)\n",
    "\n",
    "# Subset growing season\n",
    "months = [4,5,6,7,8,9]\n",
    "df_res_season = df_res[df_res.month.isin(months)]\n",
    "\n",
    "# Predictors\n",
    "predictor_vars = df_res_season.columns[1:-2]\n",
    "\n",
    "# Final product\n",
    "df_final = df_res_season[['fips' ,'year']].copy()\n",
    "\n",
    "# Loop through each month, predictor\n",
    "for month in months:\n",
    "    # Temporary df with single month\n",
    "    temp = df_res_season.query('month == ' + str(month)).copy()\n",
    "    \n",
    "    # Rename each predictor to include monthly suffix\n",
    "    for var in predictor_vars:\n",
    "        temp.rename(columns = {var : var + '_' + str(month)}, inplace=True)\n",
    "        \n",
    "    # Merge\n",
    "    df_final = pd.merge(df_final, temp.drop(columns = 'month'), how='inner', on = ['fips', 'year'])\n",
    "    \n",
    "# There are many duplicate rows, not sure why\n",
    "df_final.drop_duplicates(inplace=True)\n",
    "# Save\n",
    "df_final.to_csv('../data/historical/predictors/Livneh/Livneh_soy_intra_predictors.csv', index=False)"
   ]
  },
  {
   "cell_type": "markdown",
   "id": "6706cba8-e357-47b7-862e-e039dc114eb4",
   "metadata": {
    "jp-MarkdownHeadingCollapsed": true,
    "tags": []
   },
   "source": [
    "## Sorghum"
   ]
  },
  {
   "cell_type": "code",
   "execution_count": null,
   "id": "c1df2ff2-f8b2-479d-bd41-1f6c58458044",
   "metadata": {},
   "outputs": [],
   "source": [
    "##### Same as soy ########\n",
    "\n",
    "# Growing season: Ortiz-Bobea ERL\n",
    "# Bounds: https://iopscience.iop.org/article/10.1088/1748-9326/5/1/014010"
   ]
  },
  {
   "cell_type": "markdown",
   "id": "8189f7c5-0c5c-42d8-8759-4dead4ab2f25",
   "metadata": {
    "jp-MarkdownHeadingCollapsed": true,
    "tags": []
   },
   "source": [
    "## Cotton"
   ]
  },
  {
   "cell_type": "code",
   "execution_count": 16,
   "id": "de37e257-f351-4060-beed-6f23d31bc47f",
   "metadata": {},
   "outputs": [],
   "source": [
    "# Livneh soil moisture obs\n",
    "dsSM = xr.open_mfdataset('/gpfs/group/kaf26/default/dcl5300/LOCA_VIC_soilMoisture/Livneh/raw/soilMoist*', chunks='auto', parallel=True)\n",
    "\n",
    "# Livneh temperature obs\n",
    "dsT = xr.open_mfdataset('/gpfs/group/kzk10/default/public/LOCA/training/livneh_NAmerExt_15Oct2014*', chunks='auto', parallel=True)"
   ]
  },
  {
   "cell_type": "code",
   "execution_count": 17,
   "id": "4385b001-f337-4a85-96a0-f22af8fd70b6",
   "metadata": {},
   "outputs": [],
   "source": [
    "# Need same grid and coords\n",
    "dsSM = dsSM.rename({'Time':'time', 'Lat':'lat', 'Lon':'lon'})\n",
    "dsT = dsT.where(dsT.lat >= dsSM.lat.min(), drop=True)\n",
    "\n",
    "# Soy growing season (following Ortiz-Bobea ERL)\n",
    "dsSM = dsSM.sel(time=dsSM.time.dt.month.isin([4, 5, 6, 7, 8, 9]))\n",
    "dsT = dsT.sel(time=dsT.time.dt.month.isin([4, 5, 6, 7, 8, 9]))"
   ]
  },
  {
   "cell_type": "code",
   "execution_count": 25,
   "id": "a8e16ff1-e3da-4f75-8926-d715d608d115",
   "metadata": {},
   "outputs": [],
   "source": [
    "# %%time\n",
    "# # Calculate predictors: EDD conditioned on quantiles\n",
    "# get_predictors_EDD_SM_Q(dsT, dsSM, 'Livneh', [15.0, 32.0], 'cotton', '4-9') # bounds from Schlenker & Roberts 2009 (I checked lower bound on Powerpoint)"
   ]
  },
  {
   "cell_type": "code",
   "execution_count": 18,
   "id": "7e1a76da-0fd8-4c00-bd28-df88a3dfdfaf",
   "metadata": {},
   "outputs": [
    {
     "name": "stdout",
     "output_type": "stream",
     "text": [
      "CPU times: user 5min 2s, sys: 13.9 s, total: 5min 16s\n",
      "Wall time: 12min 25s\n"
     ]
    }
   ],
   "source": [
    "%%time\n",
    "# Calculate predictors following Haqiqi et al 2021: EDD conditioned on differences from mean\n",
    "get_predictors_EDD_SM_H21(dsT, dsSM, 'Livneh', [15.0, 32.0], 'cotton')"
   ]
  },
  {
   "cell_type": "code",
   "execution_count": 26,
   "id": "b7031d93-8403-43da-b330-6df23f2a9e0d",
   "metadata": {},
   "outputs": [
    {
     "name": "stdout",
     "output_type": "stream",
     "text": [
      "CPU times: user 2min 53s, sys: 19.1 s, total: 3min 12s\n",
      "Wall time: 5min 31s\n"
     ]
    }
   ],
   "source": [
    "%%time\n",
    "# Calculate predictors: monthly\n",
    "get_predictors_EDD_SM_intra(dsT, dsSM, 'Livneh', [15.0, 32.0], 'cotton')"
   ]
  },
  {
   "cell_type": "markdown",
   "id": "f3263005-f34a-467b-83d3-cccd1bea8c95",
   "metadata": {
    "tags": []
   },
   "source": [
    "### Aggregate to county level"
   ]
  },
  {
   "cell_type": "code",
   "execution_count": 15,
   "id": "aa1ee966-be37-4b6b-85e8-9af0227ed5f9",
   "metadata": {},
   "outputs": [],
   "source": [
    "# Get unique fips codes\n",
    "ufips = get_unique_fips()"
   ]
  },
  {
   "cell_type": "code",
   "execution_count": 20,
   "id": "9f81534f-c6d5-4bec-8d85-d22d997b5f30",
   "metadata": {},
   "outputs": [
    {
     "name": "stdout",
     "output_type": "stream",
     "text": [
      "CPU times: user 1min 9s, sys: 2.27 s, total: 1min 11s\n",
      "Wall time: 6min 22s\n"
     ]
    }
   ],
   "source": [
    "%%time\n",
    "# Parallelize\n",
    "delayed_res = []\n",
    "for fips in ufips:\n",
    "    tmp_agg = dask.delayed(func_agg)(fips, 'Livneh', 'H21_predictors', 'cotton')\n",
    "    delayed_res.append(tmp_agg)\n",
    "    \n",
    "# Run\n",
    "res = dask.compute(*delayed_res)\n",
    "\n",
    "# To dataframe\n",
    "df_res = pd.concat(res)\n",
    "df_res['year'] = df_res['time'].dt.year\n",
    "df_res.drop(columns = 'time', inplace=True)\n",
    "\n",
    "df_res.to_csv('../data/historical/predictors/Livneh/Livneh_cotton_H21_predictors.csv', index=False)"
   ]
  },
  {
   "cell_type": "code",
   "execution_count": null,
   "id": "aa9ea8f1-2dad-492a-959f-1f283f42a268",
   "metadata": {},
   "outputs": [],
   "source": [
    "# %%time\n",
    "# # Parallelize\n",
    "# delayed_res = []\n",
    "# for fips in ufips:\n",
    "#     tmp_agg = dask.delayed(func_agg)(fips, 'Livneh', 'quantile_predictors', 'cotton')\n",
    "#     delayed_res.append(tmp_agg)\n",
    "    \n",
    "# # Run\n",
    "# res = dask.compute(*delayed_res)\n",
    "\n",
    "# # To dataframe\n",
    "# df_res = pd.concat(res)\n",
    "# df_res['year'] = df_res['time'].dt.year\n",
    "# df_res.drop(columns = 'time', inplace=True)\n",
    "\n",
    "# df_res.to_csv('../data/historical/predictors/Livneh/Livneh_cotton_quantile_predictors.csv', index=False)"
   ]
  },
  {
   "cell_type": "code",
   "execution_count": 16,
   "id": "0ee7dc14-dff7-411e-9dfb-c77a58fba429",
   "metadata": {},
   "outputs": [
    {
     "name": "stdout",
     "output_type": "stream",
     "text": [
      "CPU times: user 2min 58s, sys: 8.07 s, total: 3min 6s\n",
      "Wall time: 21min 39s\n"
     ]
    }
   ],
   "source": [
    "%%time\n",
    "# Parallelize\n",
    "delayed_res = []\n",
    "for fips in ufips:\n",
    "    tmp_agg = dask.delayed(func_agg)(fips, 'Livneh', 'intra_predictors' ,'cotton')\n",
    "    delayed_res.append(tmp_agg)\n",
    "    \n",
    "# Run\n",
    "res = dask.compute(*delayed_res)\n",
    "\n",
    "# Monthly predictors need some organization:\n",
    "\n",
    "# To dataframe\n",
    "df_res = pd.concat(res)\n",
    "df_res['year'] = df_res['time'].dt.year\n",
    "df_res['month'] = df_res['time'].dt.month\n",
    "df_res.drop(columns = 'time', inplace=True)\n",
    "\n",
    "# Subset growing season\n",
    "months = [4,5,6,7,8,9]\n",
    "df_res_season = df_res[df_res.month.isin(months)]\n",
    "\n",
    "# Predictors\n",
    "predictor_vars = df_res_season.columns[1:-2]\n",
    "\n",
    "# Final product\n",
    "df_final = df_res_season[['fips' ,'year']].copy()\n",
    "\n",
    "# Loop through each month, predictor\n",
    "for month in months:\n",
    "    # Temporary df with single month\n",
    "    temp = df_res_season.query('month == ' + str(month)).copy()\n",
    "    \n",
    "    # Rename each predictor to include monthly suffix\n",
    "    for var in predictor_vars:\n",
    "        temp.rename(columns = {var : var + '_' + str(month)}, inplace=True)\n",
    "        \n",
    "    # Merge\n",
    "    df_final = pd.merge(df_final, temp.drop(columns = 'month'), how='inner', on = ['fips', 'year'])\n",
    "    \n",
    "# There are many duplicate rows, not sure why\n",
    "df_final.drop_duplicates(inplace=True)\n",
    "# Save\n",
    "df_final.to_csv('../data/historical/predictors/Livneh/Livneh_cotton_intra_predictors.csv', index=False)"
   ]
  },
  {
   "cell_type": "markdown",
   "id": "a71cce0e-6e7c-41d7-a473-1d31357db045",
   "metadata": {
    "tags": []
   },
   "source": [
    "## Barley"
   ]
  },
  {
   "cell_type": "code",
   "execution_count": 15,
   "id": "f7103415-0c80-451f-93c2-64c85cad575f",
   "metadata": {},
   "outputs": [],
   "source": [
    "# Livneh soil moisture obs\n",
    "dsSM = xr.open_mfdataset('/gpfs/group/kaf26/default/dcl5300/LOCA_VIC_soilMoisture/Livneh/raw/soilMoist*', chunks='auto', parallel=True)\n",
    "\n",
    "# Livneh temperature obs\n",
    "dsT = xr.open_mfdataset('/gpfs/group/kzk10/default/public/LOCA/training/livneh_NAmerExt_15Oct2014*', chunks='auto', parallel=True)"
   ]
  },
  {
   "cell_type": "code",
   "execution_count": 16,
   "id": "8744191c-004c-4511-b4f9-fe045f86cc96",
   "metadata": {},
   "outputs": [],
   "source": [
    "# Need same grid and coords\n",
    "dsSM = dsSM.rename({'Time':'time', 'Lat':'lat', 'Lon':'lon'})\n",
    "dsT = dsT.where(dsT.lat >= dsSM.lat.min(), drop=True)\n",
    "\n",
    "# Soy growing season (following USDA NASS crop condition charts)\n",
    "dsSM = dsSM.sel(time=dsSM.time.dt.month.isin([4, 5, 6, 7, 8]))\n",
    "dsT = dsT.sel(time=dsT.time.dt.month.isin([4, 5, 6, 7, 8]))"
   ]
  },
  {
   "cell_type": "code",
   "execution_count": 17,
   "id": "3a86bdd6-36b2-4f08-bd41-5b57bea7dc48",
   "metadata": {},
   "outputs": [
    {
     "name": "stdout",
     "output_type": "stream",
     "text": [
      "CPU times: user 5min 12s, sys: 11.2 s, total: 5min 23s\n",
      "Wall time: 13min\n"
     ]
    }
   ],
   "source": [
    "%%time\n",
    "# Calculate predictors following Haqiqi et al 2021: EDD conditioned on differences from mean\n",
    "get_predictors_EDD_SM_H21(dsT, dsSM, 'Livneh', [0., 15.0], 'barley')"
   ]
  },
  {
   "cell_type": "markdown",
   "id": "d3bf6b46-63f6-4bb3-9ae2-2b0bc721573b",
   "metadata": {
    "tags": []
   },
   "source": [
    "### Aggregate to county level"
   ]
  },
  {
   "cell_type": "code",
   "execution_count": 18,
   "id": "99536ea4-4943-4dd3-a88b-1dfa7f84708d",
   "metadata": {},
   "outputs": [],
   "source": [
    "# Get unique fips codes\n",
    "ufips = get_unique_fips()"
   ]
  },
  {
   "cell_type": "code",
   "execution_count": 19,
   "id": "eb57c38d-4071-4dda-9153-c305e843f33c",
   "metadata": {},
   "outputs": [
    {
     "name": "stdout",
     "output_type": "stream",
     "text": [
      "CPU times: user 1min 31s, sys: 2.7 s, total: 1min 34s\n",
      "Wall time: 7min 32s\n"
     ]
    }
   ],
   "source": [
    "%%time\n",
    "# Parallelize\n",
    "delayed_res = []\n",
    "for fips in ufips:\n",
    "    tmp_agg = dask.delayed(func_agg)(fips, 'Livneh', 'H21_predictors', 'barley')\n",
    "    delayed_res.append(tmp_agg)\n",
    "    \n",
    "# Run\n",
    "res = dask.compute(*delayed_res)\n",
    "\n",
    "# To dataframe\n",
    "df_res = pd.concat(res)\n",
    "df_res['year'] = df_res['time'].dt.year\n",
    "df_res.drop(columns = 'time', inplace=True)\n",
    "\n",
    "df_res.to_csv('../data/historical/predictors/Livneh/Livneh_barley_H21_predictors.csv', index=False)"
   ]
  },
  {
   "cell_type": "markdown",
   "id": "541497c6-6c0e-4b16-9174-b96d5981538d",
   "metadata": {},
   "source": [
    "## Spring Wheat"
   ]
  },
  {
   "cell_type": "code",
   "execution_count": 20,
   "id": "7b995364-1998-47e8-b224-837228a5237e",
   "metadata": {},
   "outputs": [],
   "source": [
    "# Livneh soil moisture obs\n",
    "dsSM = xr.open_mfdataset('/gpfs/group/kaf26/default/dcl5300/LOCA_VIC_soilMoisture/Livneh/raw/soilMoist*', chunks='auto', parallel=True)\n",
    "\n",
    "# Livneh temperature obs\n",
    "dsT = xr.open_mfdataset('/gpfs/group/kzk10/default/public/LOCA/training/livneh_NAmerExt_15Oct2014*', chunks='auto', parallel=True)"
   ]
  },
  {
   "cell_type": "code",
   "execution_count": 21,
   "id": "9b5f5359-2675-4d4a-b498-0e4b9e107784",
   "metadata": {},
   "outputs": [],
   "source": [
    "# Need same grid and coords\n",
    "dsSM = dsSM.rename({'Time':'time', 'Lat':'lat', 'Lon':'lon'})\n",
    "dsT = dsT.where(dsT.lat >= dsSM.lat.min(), drop=True)\n",
    "\n",
    "# Soy growing season (following Ortiz-Bobea ERL)\n",
    "dsSM = dsSM.sel(time=dsSM.time.dt.month.isin([4, 5, 6, 7, 8]))\n",
    "dsT = dsT.sel(time=dsT.time.dt.month.isin([4, 5, 6, 7, 8]))"
   ]
  },
  {
   "cell_type": "code",
   "execution_count": 22,
   "id": "db9aa144-b816-473a-afb7-da27827edc08",
   "metadata": {},
   "outputs": [
    {
     "name": "stdout",
     "output_type": "stream",
     "text": [
      "CPU times: user 5min 16s, sys: 10.9 s, total: 5min 27s\n",
      "Wall time: 13min 16s\n"
     ]
    }
   ],
   "source": [
    "%%time\n",
    "# Calculate predictors following Haqiqi et al 2021: EDD conditioned on differences from mean\n",
    "get_predictors_EDD_SM_H21(dsT, dsSM, 'Livneh', [5.0, 26.0], 'spring_wheat')"
   ]
  },
  {
   "cell_type": "markdown",
   "id": "b8b73c58-939a-438c-8bc5-bd00a9a71f3f",
   "metadata": {
    "tags": []
   },
   "source": [
    "### Aggregate to county level"
   ]
  },
  {
   "cell_type": "code",
   "execution_count": 23,
   "id": "f0dfbf7b-dd5c-407d-97e4-d9dd7987a8f2",
   "metadata": {},
   "outputs": [],
   "source": [
    "# Get unique fips codes\n",
    "ufips = get_unique_fips()"
   ]
  },
  {
   "cell_type": "code",
   "execution_count": 24,
   "id": "ef37cfd0-ce8f-4c13-8263-5b7328c93ff6",
   "metadata": {},
   "outputs": [
    {
     "name": "stdout",
     "output_type": "stream",
     "text": [
      "CPU times: user 1min 51s, sys: 3.29 s, total: 1min 55s\n",
      "Wall time: 9min 33s\n"
     ]
    }
   ],
   "source": [
    "%%time\n",
    "# Parallelize\n",
    "delayed_res = []\n",
    "for fips in ufips:\n",
    "    tmp_agg = dask.delayed(func_agg)(fips, 'Livneh', 'H21_predictors', 'spring_wheat')\n",
    "    delayed_res.append(tmp_agg)\n",
    "    \n",
    "# Run\n",
    "res = dask.compute(*delayed_res)\n",
    "\n",
    "# To dataframe\n",
    "df_res = pd.concat(res)\n",
    "df_res['year'] = df_res['time'].dt.year\n",
    "df_res.drop(columns = 'time', inplace=True)\n",
    "\n",
    "df_res.to_csv('../data/historical/predictors/Livneh/Livneh_springwheat_H21_predictors.csv', index=False)"
   ]
  },
  {
   "cell_type": "markdown",
   "id": "e9127425-0d4b-4230-9c7e-dc88eaae4e21",
   "metadata": {
    "jp-MarkdownHeadingCollapsed": true,
    "tags": []
   },
   "source": [
    "## Covariates"
   ]
  },
  {
   "cell_type": "markdown",
   "id": "cc9c6f08-5746-4603-ac87-21c582511fcc",
   "metadata": {
    "jp-MarkdownHeadingCollapsed": true,
    "tags": []
   },
   "source": [
    "### Bio-clim"
   ]
  },
  {
   "cell_type": "code",
   "execution_count": null,
   "id": "0f9d44b8-74ca-4952-b1ff-785c14528c6d",
   "metadata": {},
   "outputs": [],
   "source": [
    "# Livneh temperature & precip obs\n",
    "ds = xr.open_mfdataset('/gpfs/group/kzk10/default/public/LOCA/training/livneh_NAmerExt_15Oct2014*', chunks='auto', parallel=True)"
   ]
  },
  {
   "cell_type": "code",
   "execution_count": null,
   "id": "33f9af1c-4bb8-48dc-bb17-4c7208fca5c4",
   "metadata": {},
   "outputs": [],
   "source": [
    "# Bio1: Annual mean temperature\n",
    "bio1 = (ds['Tmax'] + ds['Tmin'])/2.\n",
    "bio1 = bio1.resample(time='Y').mean().mean(dim='time').compute()"
   ]
  },
  {
   "cell_type": "code",
   "execution_count": null,
   "id": "2ad826b5-dc7f-4ed4-b7fe-f6d694a96524",
   "metadata": {},
   "outputs": [],
   "source": [
    "# Resample to monthly means\n",
    "ds_monthly = ds.resample(time='M').mean().compute()"
   ]
  },
  {
   "cell_type": "code",
   "execution_count": null,
   "id": "01b63b8f-2159-4b2d-915e-69de66ab862f",
   "metadata": {},
   "outputs": [],
   "source": [
    "# Bio2: Mean 'diurnal' range\n",
    "bio2 = (ds_monthly['Tmax'] - ds_monthly['Tmin']).mean(dim='time')"
   ]
  },
  {
   "cell_type": "code",
   "execution_count": null,
   "id": "1a1c20df-ba1b-4087-8f33-e18fe64a158b",
   "metadata": {},
   "outputs": [],
   "source": [
    "# Bio4: Temperature seasonality (SD)\n",
    "bio4 = (ds_monthly['Tmax'] + ds_monthly['Tmin']) / 2.\n",
    "bio4 = bio4.resample(time='Y').std().mean(dim='time')"
   ]
  },
  {
   "cell_type": "code",
   "execution_count": null,
   "id": "9f748641-083b-483f-965a-9717897083a4",
   "metadata": {},
   "outputs": [],
   "source": [
    "# Bio12: Annual (total) precipitation\n",
    "bio12 = ds['Prec'].resample(time='Y').sum().mean(dim='time').compute() / 100."
   ]
  },
  {
   "cell_type": "code",
   "execution_count": null,
   "id": "bb96a425-dd99-45f5-8980-80acc207ab0a",
   "metadata": {},
   "outputs": [],
   "source": [
    "# Bio7: Annual temperature range\n",
    "bio7 = ds_monthly['Tmax'].resample(time='Y').max() - ds_monthly['Tmin'].resample(time='Y').min()\n",
    "bio7 = bio7.mean(dim='time')"
   ]
  },
  {
   "cell_type": "code",
   "execution_count": null,
   "id": "356290f8-d123-49a0-afc1-37234360e129",
   "metadata": {},
   "outputs": [],
   "source": [
    "# Bio3: Isothermality (bio2 / bio7)\n",
    "bio3 = 100 * bio2 / bio7"
   ]
  },
  {
   "cell_type": "code",
   "execution_count": null,
   "id": "cce9a48c-3529-43f5-9f98-91c885e3c88b",
   "metadata": {},
   "outputs": [],
   "source": [
    "# Bio15: Precip CV\n",
    "bio15 = ds_monthly['Prec'].resample(time='Y').mean() / ds_monthly['Prec'].resample(time='Y').std()\n",
    "bio15 = bio15.mean(dim='time')"
   ]
  },
  {
   "cell_type": "code",
   "execution_count": 290,
   "id": "90a8c8f2-7d08-4fc7-8554-2cc648bbb4b5",
   "metadata": {},
   "outputs": [],
   "source": [
    "# Save\n",
    "bio_all = xr.merge([bio1.rename('bio_1'),\n",
    "                       bio2.rename('bio_2'),\n",
    "                       bio3.rename('bio_3'),\n",
    "                       bio4.rename('bio_4'),\n",
    "                       bio7.rename('bio_7'),\n",
    "                       bio12.rename('bio_12'),\n",
    "                       bio15.rename('bio_15')])\n",
    "\n",
    "bio_all.attrs['NOTE'] = 'https://www.worldclim.org/data/bioclim.html'\n",
    "bio_all.to_netcdf('/gpfs/group/kaf26/default/dcl5300/bioclim_all.nc')"
   ]
  },
  {
   "cell_type": "markdown",
   "id": "b3c063ae-c3c6-43df-884e-ab0cd4505e26",
   "metadata": {
    "jp-MarkdownHeadingCollapsed": true,
    "tags": []
   },
   "source": [
    "### Irrigation fraction"
   ]
  },
  {
   "cell_type": "code",
   "execution_count": 199,
   "id": "57423f66-02db-46fb-a90e-1b0475bb2732",
   "metadata": {},
   "outputs": [],
   "source": [
    "# Maize irrigation\n",
    "maize_rfd = xr.open_dataset('/gpfs/group/kaf26/default/dcl5300/GAEZ+_2015_monthly/10_13019_J2BH-VB41/GAEZ_crop_area_monthly_2015/GZ_Maize_1_rfd_area.nc')\n",
    "maize_rfd = subset_us(maize_rfd)\n",
    "\n",
    "maize_irr = xr.open_dataset('/gpfs/group/kaf26/default/dcl5300/GAEZ+_2015_monthly/10_13019_J2BH-VB41/GAEZ_crop_area_monthly_2015/GZ_Maize_1_irr_area.nc')\n",
    "maize_irr = subset_us(maize_irr)\n",
    "\n",
    "maize_frac = calculate_irr_fraction(maize_rfd, maize_irr)"
   ]
  },
  {
   "cell_type": "code",
   "execution_count": 203,
   "id": "f505cb9b-8bc3-4a25-8d98-ffc7b67e97fc",
   "metadata": {},
   "outputs": [],
   "source": [
    "# Barley irrigation\n",
    "barley_rfd = xr.open_dataset('/gpfs/group/kaf26/default/dcl5300/GAEZ+_2015_monthly/10_13019_J2BH-VB41/GAEZ_crop_area_monthly_2015/GZ_Barley_1_rfd_area.nc')\n",
    "barley_rfd = subset_us(barley_rfd)\n",
    "\n",
    "barley_irr = xr.open_dataset('/gpfs/group/kaf26/default/dcl5300/GAEZ+_2015_monthly/10_13019_J2BH-VB41/GAEZ_crop_area_monthly_2015/GZ_Barley_1_irr_area.nc')\n",
    "barley_irr = subset_us(barley_irr)\n",
    "\n",
    "barley_frac = calculate_irr_fraction(barley_rfd, barley_irr)"
   ]
  },
  {
   "cell_type": "code",
   "execution_count": 207,
   "id": "c0cf65fa-7789-4b50-82be-8bf1651e28ce",
   "metadata": {},
   "outputs": [],
   "source": [
    "# Cotton irrigation\n",
    "cotton_rfd = xr.open_dataset('/gpfs/group/kaf26/default/dcl5300/GAEZ+_2015_monthly/10_13019_J2BH-VB41/GAEZ_crop_area_monthly_2015/GZ_Cotton_1_rfd_area.nc')\n",
    "cotton_rfd = subset_us(cotton_rfd)\n",
    "\n",
    "cotton_irr = xr.open_dataset('/gpfs/group/kaf26/default/dcl5300/GAEZ+_2015_monthly/10_13019_J2BH-VB41/GAEZ_crop_area_monthly_2015/GZ_Cotton_1_irr_area.nc')\n",
    "cotton_irr = subset_us(cotton_irr)\n",
    "\n",
    "cotton_frac = calculate_irr_fraction(cotton_rfd, cotton_irr)"
   ]
  },
  {
   "cell_type": "code",
   "execution_count": 213,
   "id": "60e138c7-a07a-4aeb-9a60-11cec0eea3cd",
   "metadata": {},
   "outputs": [],
   "source": [
    "# Sorghum irrigation\n",
    "sorghum_rfd = xr.open_dataset('/gpfs/group/kaf26/default/dcl5300/GAEZ+_2015_monthly/10_13019_J2BH-VB41/GAEZ_crop_area_monthly_2015/GZ_Sorghum_1_rfd_area.nc')\n",
    "sorghum_rfd = subset_us(sorghum_rfd)\n",
    "\n",
    "sorghum_irr = xr.open_dataset('/gpfs/group/kaf26/default/dcl5300/GAEZ+_2015_monthly/10_13019_J2BH-VB41/GAEZ_crop_area_monthly_2015/GZ_Sorghum_1_irr_area.nc')\n",
    "sorghum_irr = subset_us(sorghum_irr)\n",
    "\n",
    "sorghum_frac = calculate_irr_fraction(sorghum_rfd, sorghum_irr)"
   ]
  },
  {
   "cell_type": "code",
   "execution_count": 214,
   "id": "a6be5c61-308d-45ef-8a44-4343fa65517f",
   "metadata": {},
   "outputs": [],
   "source": [
    "# Soybean irrigation\n",
    "soy_rfd = xr.open_dataset('/gpfs/group/kaf26/default/dcl5300/GAEZ+_2015_monthly/10_13019_J2BH-VB41/GAEZ_crop_area_monthly_2015/GZ_Soybean_1_rfd_area.nc')\n",
    "soy_rfd = subset_us(soy_rfd)\n",
    "\n",
    "soy_irr = xr.open_dataset('/gpfs/group/kaf26/default/dcl5300/GAEZ+_2015_monthly/10_13019_J2BH-VB41/GAEZ_crop_area_monthly_2015/GZ_Soybean_1_irr_area.nc')\n",
    "soy_irr = subset_us(soy_irr)\n",
    "\n",
    "soy_frac = calculate_irr_fraction(soy_rfd, soy_irr)"
   ]
  },
  {
   "cell_type": "code",
   "execution_count": 248,
   "id": "ccdafe7f-ca25-4c49-b18f-2291aabe6827",
   "metadata": {},
   "outputs": [],
   "source": [
    "# Winter Wheat irrigation\n",
    "winter_wheat_rfd = xr.open_dataset('/gpfs/group/kaf26/default/dcl5300/GAEZ+_2015_monthly/10_13019_J2BH-VB41/GAEZ_crop_area_monthly_2015/GZ_Wheat_1_rfd_area.nc')\n",
    "winter_wheat_rfd = subset_us(winter_wheat_rfd)\n",
    "\n",
    "winter_wheat_irr = xr.open_dataset('/gpfs/group/kaf26/default/dcl5300/GAEZ+_2015_monthly/10_13019_J2BH-VB41/GAEZ_crop_area_monthly_2015/GZ_Wheat_1_irr_area.nc')\n",
    "winter_wheat_irr = subset_us(winter_wheat_irr)\n",
    "\n",
    "winter_wheat_frac = calculate_irr_fraction(winter_wheat_rfd, winter_wheat_irr)"
   ]
  },
  {
   "cell_type": "code",
   "execution_count": 249,
   "id": "48a6c85f-c7e4-4a37-bc14-ebfb2e44c3fc",
   "metadata": {},
   "outputs": [],
   "source": [
    "# Spring Wheat irrigation\n",
    "spring_wheat_rfd = xr.open_dataset('/gpfs/group/kaf26/default/dcl5300/GAEZ+_2015_monthly/10_13019_J2BH-VB41/GAEZ_crop_area_monthly_2015/GZ_Wheat_2_rfd_area.nc')\n",
    "spring_wheat_rfd = subset_us(spring_wheat_rfd)\n",
    "\n",
    "spring_wheat_irr = xr.open_dataset('/gpfs/group/kaf26/default/dcl5300/GAEZ+_2015_monthly/10_13019_J2BH-VB41/GAEZ_crop_area_monthly_2015/GZ_Wheat_2_irr_area.nc')\n",
    "spring_wheat_irr = subset_us(spring_wheat_irr)\n",
    "\n",
    "spring_wheat_frac = calculate_irr_fraction(spring_wheat_rfd, spring_wheat_irr)"
   ]
  },
  {
   "cell_type": "code",
   "execution_count": 259,
   "id": "0967717b-70b2-4609-9dbf-a4c69a9b9285",
   "metadata": {},
   "outputs": [],
   "source": [
    "# Rice irrigation\n",
    "rice_rfd = xr.open_dataset('/gpfs/group/kaf26/default/dcl5300/GAEZ+_2015_monthly/10_13019_J2BH-VB41/GAEZ_crop_area_monthly_2015/GZ_Rice_1_rfd_area.nc')\n",
    "rice_rfd = subset_us(rice_rfd)\n",
    "\n",
    "rice_irr = xr.open_dataset('/gpfs/group/kaf26/default/dcl5300/GAEZ+_2015_monthly/10_13019_J2BH-VB41/GAEZ_crop_area_monthly_2015/GZ_Rice_1_irr_area.nc')\n",
    "rice_irr = subset_us(rice_irr)\n",
    "\n",
    "rice_frac = calculate_irr_fraction(rice_rfd, rice_irr)"
   ]
  },
  {
   "cell_type": "code",
   "execution_count": 271,
   "id": "c5ef4270-b5b6-4c14-bc9f-2b16e778c5e5",
   "metadata": {},
   "outputs": [],
   "source": [
    "# Save\n",
    "irrig_frac = xr.merge([maize_frac.rename('maize_irr_frac'),\n",
    "                       rice_frac.rename('rice_irr_frac'),\n",
    "                       cotton_frac.rename('cotton_irr_frac'),\n",
    "                       sorghum_frac.rename('sorghum_irr_frac'),\n",
    "                       winter_wheat_frac.rename('winter_wheat_irr_frac'),\n",
    "                       spring_wheat_frac.rename('spring_wheat_irr_frac'),\n",
    "                       soy_frac.rename('soy_irr_frac'),\n",
    "                       barley_frac.rename('barley_irr_frac')])\n",
    "\n",
    "irrig_frac.to_netcdf('/gpfs/group/kaf26/default/dcl5300/GAEZ+_2015_monthly/historical/irrigation_frac_all.nc')"
   ]
  },
  {
   "cell_type": "markdown",
   "id": "3e58991a-c27d-4f37-8324-edc7afcfd3a0",
   "metadata": {
    "jp-MarkdownHeadingCollapsed": true,
    "tags": []
   },
   "source": [
    "### County aggregation"
   ]
  },
  {
   "cell_type": "code",
   "execution_count": 14,
   "id": "df9f435e-aa76-40f5-9b0e-8d0a78373256",
   "metadata": {},
   "outputs": [],
   "source": [
    "# Get unique fips codes\n",
    "ufips = get_unique_fips()"
   ]
  },
  {
   "cell_type": "code",
   "execution_count": 44,
   "id": "d391c482-aca1-46f0-9da6-577b96a186bf",
   "metadata": {},
   "outputs": [],
   "source": [
    "# Updated aggregation function for dask delayed\n",
    "def func_agg(fips, path, latlon):\n",
    "    weights_path = '/gpfs/group/kaf26/default/dcl5300/cropland_data_layer/county_weights/'\n",
    "    \n",
    "    try:\n",
    "        # Shapefile and county bounds\n",
    "        gdf = gp.read_file('/storage/work/dcl5300/bcsd_maize_scripts/tools/plotting_tools/counties_contig_plot.shp')\n",
    "        gdf = gdf.to_crs('WGS 84')\n",
    "        gdf_fips = gdf.query('fips == \"' + fips + '\"')\n",
    "        xmin, ymin, xmax, ymax = gdf_fips.geometry.total_bounds\n",
    "        \n",
    "        # Covariates\n",
    "        ds = xr.open_dataset(path)\n",
    "        if latlon:\n",
    "            ds = ds.where((ds.lat >= ymin) & (ds.lat <= ymax) & (ds.lon >= xmin) & (ds.lon <= xmax), drop=True)\n",
    "        else: \n",
    "            ds = ds.where((ds.latitude >= ymin) & (ds.latitude <= ymax) & (ds.longitude >= xmin) & (ds.longitude <= xmax), drop=True)\n",
    "            \n",
    "        # Read in weights\n",
    "        ds_weights = xr.open_dataset(weights_path + fips + '_08-20.nc')\n",
    "        ds_weights = ds_weights.coarsen(x=10, y=10, boundary='pad').mean()\n",
    "\n",
    "        # Aggregate\n",
    "        weightmap = xa.pixel_overlaps(ds, gdf_fips, weights = ds_weights.cropland_avg)\n",
    "        aggregated = xa.aggregate(ds, weightmap).to_dataset().to_dataframe().reset_index().drop(columns = ['pix_idx'])\n",
    "        \n",
    "        # For a few counties the weighting results in all values being zero\n",
    "        if aggregated.iloc[:, 1:].sum(axis=1)[0] == 0.0:\n",
    "            weightmap = xa.pixel_overlaps(ds, gdf_fips)\n",
    "            aggregated = xa.aggregate(ds, weightmap).to_dataset().to_dataframe().reset_index().drop(columns = ['pix_idx'])\n",
    "        \n",
    "        # Otherwise workers will store for each county \n",
    "        del ds\n",
    "        del ds_weights\n",
    "        del gdf\n",
    "        del gdf_fips\n",
    "        del weightmap\n",
    "        \n",
    "        return aggregated\n",
    "    \n",
    "    except Exception as e:\n",
    "        print(\"{} Failed : {}\".format(fips, str(e)))"
   ]
  },
  {
   "cell_type": "code",
   "execution_count": 53,
   "id": "493eaf48-2b96-4f81-a8af-c127d3e4e1bc",
   "metadata": {},
   "outputs": [
    {
     "name": "stdout",
     "output_type": "stream",
     "text": [
      "CPU times: user 1min 15s, sys: 2.54 s, total: 1min 18s\n",
      "Wall time: 6min 33s\n"
     ]
    }
   ],
   "source": [
    "%%time\n",
    "# Parallelize\n",
    "delayed_res = []\n",
    "for fips in ufips:\n",
    "    tmp_agg = dask.delayed(func_agg)(fips, '/gpfs/group/kaf26/default/dcl5300/GAEZ+_2015_monthly/historical/irrigation_frac_all.nc', latlon=False)\n",
    "    delayed_res.append(tmp_agg)\n",
    "    \n",
    "# Run\n",
    "res_irr = dask.compute(*delayed_res)"
   ]
  },
  {
   "cell_type": "code",
   "execution_count": 17,
   "id": "09d39073-1c02-4271-aaba-74461483f20f",
   "metadata": {},
   "outputs": [
    {
     "name": "stdout",
     "output_type": "stream",
     "text": [
      "CPU times: user 1min 15s, sys: 2.52 s, total: 1min 17s\n",
      "Wall time: 6min 44s\n"
     ]
    }
   ],
   "source": [
    "%%time\n",
    "# Parallelize\n",
    "delayed_res = []\n",
    "for fips in ufips:\n",
    "    tmp_agg = dask.delayed(func_agg)(fips, '/gpfs/group/kaf26/default/dcl5300/bioclim_all.nc', latlon=True)\n",
    "    delayed_res.append(tmp_agg)\n",
    "    \n",
    "# Run\n",
    "res_bio = dask.compute(*delayed_res)"
   ]
  },
  {
   "cell_type": "code",
   "execution_count": 54,
   "id": "a05d8f63-d877-4d24-b97d-68466f7fc9b1",
   "metadata": {},
   "outputs": [],
   "source": [
    "# To dataframe\n",
    "df_res_irr = pd.concat(res_irr)\n",
    "df_res_bio = pd.concat(res_bio)\n",
    "\n",
    "# Merge\n",
    "df_res = pd.merge(df_res_irr, df_res_bio, on='fips', how='outer')\n",
    "\n",
    "# Save\n",
    "df_res.to_csv('../data/historical/predictors/Livneh/Livneh_covariates_all.csv', index=False)"
   ]
  },
  {
   "cell_type": "code",
   "execution_count": null,
   "id": "0c868841-31d3-4d3a-bc12-a97d1f3885ef",
   "metadata": {},
   "outputs": [],
   "source": []
  }
 ],
 "metadata": {
  "kernelspec": {
   "display_name": "Python 3 (ipykernel)",
   "language": "python",
   "name": "python3"
  },
  "language_info": {
   "codemirror_mode": {
    "name": "ipython",
    "version": 3
   },
   "file_extension": ".py",
   "mimetype": "text/x-python",
   "name": "python",
   "nbconvert_exporter": "python",
   "pygments_lexer": "ipython3",
   "version": "3.9.6"
  }
 },
 "nbformat": 4,
 "nbformat_minor": 5
}
